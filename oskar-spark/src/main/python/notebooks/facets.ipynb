{
 "cells": [
  {
   "cell_type": "markdown",
   "metadata": {},
   "source": [
    "<img style=\"float: right;\" src=\"https://github.com/roldanx/oskar/blob/develop/oskar-spark/src/main/resources/OpenCB.png?raw=True\">\n",
    "<br>\n",
    "\n",
    "# __Facets tutorial__\n",
    "In this Jupyter tutorial you can learn how to use one of the most sofisticated transformations that PyOskar provides: _facet()_. As every transformation this method pertains to _Oskar()_ class, sowe will need to acces to it through our _oskar_ instance.\n",
    "> <span style=\"color:#ff6600\">__In order to optimise the performance we decided to integrate PyOskar in PySpark default API. This means that it is possible to manage data simultaneously with functions from both libraries in case we want to select specific fields, visualize the dataframe, filter the output or performing other operations besides PyOskar API.__</span>"
   ]
  },
  {
   "cell_type": "markdown",
   "metadata": {},
   "source": [
    "Usage:\n",
    "```python\n",
    "facet(df[DataFrame], facet[str])\n",
    "```"
   ]
  },
  {
   "cell_type": "markdown",
   "metadata": {},
   "source": [
    "First, we need to import the PyOskar and PySpark modules. Second, we need to create an instance of the _Oskar()_ object, from which depends a big part of the functionality. Finally, we must use the _load()_ transformer pointing to where the parquet file is stored to convert our data into a DataFrame _df_, and we are ready to start playing."
   ]
  },
  {
   "cell_type": "code",
   "execution_count": 1,
   "metadata": {},
   "outputs": [],
   "source": [
    "from pyoskar.core import Oskar\n",
    "from pyoskar.sql import *\n",
    "from pyoskar.analysis import *\n",
    "from pyspark.sql.functions import *\n",
    "\n",
    "oskar = Oskar(spark)\n",
    "df = oskar.load(\"./data/platinum_chr22.small.parquet\")"
   ]
  },
  {
   "cell_type": "markdown",
   "metadata": {},
   "source": [
    "You can use PySpark _show()_ method to print the data from _df_. This is how our testing dataframe looks like. As you can see for this tutorial we have selected a small dataset from Illumina Platinum Genomes with 1,000 random variants from chromosome 22, which pertain to a set of 17 samples."
   ]
  },
  {
   "cell_type": "code",
   "execution_count": 3,
   "metadata": {},
   "outputs": [
    {
     "name": "stdout",
     "output_type": "stream",
     "text": [
      "First 20 variants:\n",
      "+---------------+-----+----------+--------+--------+---------+---------+------+----+------+-----+----+--------------------+--------------------+\n",
      "|             id|names|chromosome|   start|     end|reference|alternate|strand|  sv|length| type|hgvs|             studies|          annotation|\n",
      "+---------------+-----+----------+--------+--------+---------+---------+------+----+------+-----+----+--------------------+--------------------+\n",
      "|22:16054454:C:T|   []|        22|16054454|16054454|        C|        T|     +|null|     1|  SNV|  []|[[hgvauser@platin...|[22, 16054454, 16...|\n",
      "|22:16065809:T:C|   []|        22|16065809|16065809|        T|        C|     +|null|     1|  SNV|  []|[[hgvauser@platin...|[22, 16065809, 16...|\n",
      "|22:16077310:T:A|   []|        22|16077310|16077310|        T|        A|     +|null|     1|  SNV|  []|[[hgvauser@platin...|[22, 16077310, 16...|\n",
      "|22:16080499:A:G|   []|        22|16080499|16080499|        A|        G|     +|null|     1|  SNV|  []|[[hgvauser@platin...|[22, 16080499, 16...|\n",
      "|22:16084621:T:C|   []|        22|16084621|16084621|        T|        C|     +|null|     1|  SNV|  []|[[hgvauser@platin...|[22, 16084621, 16...|\n",
      "|22:16091610:G:T|   []|        22|16091610|16091610|        G|        T|     +|null|     1|  SNV|  []|[[hgvauser@platin...|[22, 16091610, 16...|\n",
      "|22:16096040:G:A|   []|        22|16096040|16096040|        G|        A|     +|null|     1|  SNV|  []|[[hgvauser@platin...|[22, 16096040, 16...|\n",
      "|22:16099957:C:T|   []|        22|16099957|16099957|        C|        T|     +|null|     1|  SNV|  []|[[hgvauser@platin...|[22, 16099957, 16...|\n",
      "|22:16100462:A:G|   []|        22|16100462|16100462|        A|        G|     +|null|     1|  SNV|  []|[[hgvauser@platin...|[22, 16100462, 16...|\n",
      "|22:16105660:G:A|   []|        22|16105660|16105660|        G|        A|     +|null|     1|  SNV|  []|[[hgvauser@platin...|[22, 16105660, 16...|\n",
      "|22:16112391:G:A|   []|        22|16112391|16112391|        G|        A|     +|null|     1|  SNV|  []|[[hgvauser@platin...|[22, 16112391, 16...|\n",
      "|22:16114913:A:T|   []|        22|16114913|16114913|        A|        T|     +|null|     1|  SNV|  []|[[hgvauser@platin...|[22, 16114913, 16...|\n",
      "|22:16127471:A:-|   []|        22|16127471|16127471|        A|         |     +|null|     1|INDEL|  []|[[hgvauser@platin...|[22, 16127471, 16...|\n",
      "|22:16134019:G:T|   []|        22|16134019|16134019|        G|        T|     +|null|     1|  SNV|  []|[[hgvauser@platin...|[22, 16134019, 16...|\n",
      "|22:16138943:C:G|   []|        22|16138943|16138943|        C|        G|     +|null|     1|  SNV|  []|[[hgvauser@platin...|[22, 16138943, 16...|\n",
      "|22:16144239:T:C|   []|        22|16144239|16144239|        T|        C|     +|null|     1|  SNV|  []|[[hgvauser@platin...|[22, 16144239, 16...|\n",
      "|22:16147398:G:A|   []|        22|16147398|16147398|        G|        A|     +|null|     1|  SNV|  []|[[hgvauser@platin...|[22, 16147398, 16...|\n",
      "|22:16149692:G:T|   []|        22|16149692|16149692|        G|        T|     +|null|     1|  SNV|  []|[[hgvauser@platin...|[22, 16149692, 16...|\n",
      "|22:16195955:G:A|   []|        22|16195955|16195955|        G|        A|     +|null|     1|  SNV|  []|[[hgvauser@platin...|[22, 16195955, 16...|\n",
      "|22:16196041:C:T|   []|        22|16196041|16196041|        C|        T|     +|null|     1|  SNV|  []|[[hgvauser@platin...|[22, 16196041, 16...|\n",
      "+---------------+-----+----------+--------+--------+---------+---------+------+----+------+-----+----+--------------------+--------------------+\n",
      "only showing top 20 rows\n",
      "\n"
     ]
    }
   ],
   "source": [
    "print(\"First 20 variants:\")\n",
    "df.show()"
   ]
  },
  {
   "cell_type": "markdown",
   "metadata": {},
   "source": [
    "NOTE: With _df.printSchema()_ command you can check the dataset hierarchy and all its fields."
   ]
  },
  {
   "cell_type": "code",
   "execution_count": 2,
   "metadata": {},
   "outputs": [
    {
     "name": "stdout",
     "output_type": "stream",
     "text": [
      "Samples:\n",
      "{'hgvauser@platinum:illumina_platinum': ['NA12877', 'NA12878', 'NA12879', 'NA12880', 'NA12881', 'NA12882', 'NA12883', 'NA12884', 'NA12885', 'NA12886', 'NA12887', 'NA12888', 'NA12889', 'NA12890', 'NA12891', 'NA12892', 'NA12893']}\n"
     ]
    }
   ],
   "source": [
    "print(\"Samples:\")\n",
    "print(oskar.metadata.samples(df))"
   ]
  },
  {
   "cell_type": "code",
   "execution_count": 4,
   "metadata": {},
   "outputs": [
    {
     "name": "stdout",
     "output_type": "stream",
     "text": [
      "Total number of variants:\n"
     ]
    },
    {
     "data": {
      "text/plain": [
       "1000"
      ]
     },
     "execution_count": 4,
     "metadata": {},
     "output_type": "execute_result"
    }
   ],
   "source": [
    "print(\"Total number of variants:\")\n",
    "df.count()"
   ]
  },
  {
   "cell_type": "markdown",
   "metadata": {},
   "source": [
    "## Simple facets\n",
    "We will start with an easy facet. This example executes the classics _groupBy()_ and _count()_ upon our dataframe. This format was designed to be applied on categorical or discrete quantitative variables. That could be any among these ones:\n",
    " - Chromosome [<span style=\"color:#ff6600\"> **chromosome** </span>]\n",
    " - Variant type [<span style=\"color:#ff6600\"> **type** </span>]\n",
    " - Variant Studies [<span style=\"color:#ff6600\"> **studies** </span>]\n",
    " - Biotype [<span style=\"color:#ff6600\"> **biotype** </span>]\n",
    " - Consequence type [<span style=\"color:#ff6600\"> **ct** </span>]\n",
    " - Gene [<span style=\"color:#ff6600\"> **gene** </span>]\n",
    " - Ensemble gene ID [<span style=\"color:#ff6600\"> **ensemblGeneId** </span>]\n",
    " - Ensemble gene transcript [<span style=\"color:#ff6600\"> **ensemblTranscriptId** </span>]"
   ]
  },
  {
   "cell_type": "code",
   "execution_count": 5,
   "metadata": {},
   "outputs": [
    {
     "name": "stdout",
     "output_type": "stream",
     "text": [
      "+-----+-----+\n",
      "| type|count|\n",
      "+-----+-----+\n",
      "|INDEL|  106|\n",
      "|  SNV|  894|\n",
      "+-----+-----+\n",
      "\n"
     ]
    }
   ],
   "source": [
    "oskar.facet(df, \"type\").show()"
   ]
  },
  {
   "cell_type": "code",
   "execution_count": 40,
   "metadata": {},
   "outputs": [
    {
     "name": "stdout",
     "output_type": "stream",
     "text": [
      "+----------------------------------+-----+\n",
      "|ct                                |count|\n",
      "+----------------------------------+-----+\n",
      "|2KB_downstream_variant            |146  |\n",
      "|2KB_upstream_variant              |146  |\n",
      "|3_prime_UTR_variant               |9    |\n",
      "|5_prime_UTR_variant               |1    |\n",
      "|NMD_transcript_variant            |140  |\n",
      "|TF_binding_site_variant           |108  |\n",
      "|downstream_gene_variant           |163  |\n",
      "|intergenic_variant                |222  |\n",
      "|intron_variant                    |543  |\n",
      "|missense_variant                  |4    |\n",
      "|non_coding_transcript_exon_variant|45   |\n",
      "|non_coding_transcript_variant     |385  |\n",
      "|regulatory_region_variant         |764  |\n",
      "|splice_donor_variant              |1    |\n",
      "|splice_region_variant             |2    |\n",
      "|synonymous_variant                |6    |\n",
      "|upstream_gene_variant             |200  |\n",
      "+----------------------------------+-----+\n",
      "\n"
     ]
    }
   ],
   "source": [
    "oskar.facet(df, \"ct\").show(truncate = False)"
   ]
  },
  {
   "cell_type": "markdown",
   "metadata": {},
   "source": [
    "## Include facets\n",
    "We can also apply a filtering based on the values we do explicit in the function."
   ]
  },
  {
   "cell_type": "code",
   "execution_count": 41,
   "metadata": {},
   "outputs": [
    {
     "name": "stdout",
     "output_type": "stream",
     "text": [
      "+-------+-----+\n",
      "|   gene|count|\n",
      "+-------+-----+\n",
      "|BCL2L13|    8|\n",
      "|  CECR2|   11|\n",
      "+-------+-----+\n",
      "\n"
     ]
    }
   ],
   "source": [
    "oskar.facet(df, \"gene[BCL2L13,CECR2]\").show()"
   ]
  },
  {
   "cell_type": "markdown",
   "metadata": {},
   "source": [
    "## Range facets\n",
    "Using a similar syntax as with _Include facets_ but dealing with continuous quantitative variables we find that we can apply facets by range, where we can determine both upper and downer thresholds as well as the step e.g. _[start..end]:step_. Available range fields are:\n",
    " - Conservation scores: GERP [<span style=\"color:#ff6600\"> **gerp** </span>], Phylop [<span style=\"color:#ff6600\"> **phylop** </span>] or PhastCons [<span style=\"color:#ff6600\"> **phastCons** </span>]\n",
    " - Functional scores: CADD scaled [<span style=\"color:#ff6600\"> **cadd_scaled** </span>] or CADD raw [<span style=\"color:#ff6600\"> **cadd_raw** </span>]\n",
    " - Substitution scores: SIFT [<span style=\"color:#ff6600\"> **sift** </span>] or PolyPhen [<span style=\"color:#ff6600\"> **polyphen** </span>]"
   ]
  },
  {
   "cell_type": "code",
   "execution_count": 44,
   "metadata": {},
   "outputs": [
    {
     "name": "stdout",
     "output_type": "stream",
     "text": [
      "+-----------+-----+\n",
      "|phylopRange|count|\n",
      "+-----------+-----+\n",
      "|       -4.0|    3|\n",
      "|       -3.0|   12|\n",
      "|       -2.0|   55|\n",
      "|       -1.0|  171|\n",
      "|        0.0|  681|\n",
      "+-----------+-----+\n",
      "\n"
     ]
    }
   ],
   "source": [
    "oskar.facet(df, \"phylop[-5..0]:1\").show()"
   ]
  },
  {
   "cell_type": "markdown",
   "metadata": {},
   "source": [
    "Furthermore, we dispose two more rangeable fields where we could use our facets. These ones have the peculiarity that they need extra inputs to be fully defined; we will need to explicit the study which they pertain and the cohort delimited by two underscores. These fields are:\n",
    " - Global alternate population frequency [<span style=\"color:#ff6600\"> **popFreq** </span>] \n",
    " - Dataframe alternate population frequency [<span style=\"color:#ff6600\"> **stats** </span>]\n",
    "<br>\n",
    "\n",
    "NOTE: _stats facet_ needs a previous step carried out by _stats_ transformer that generates new data inside the DataFrame, and whose functionality is fully explained in the _Stats tutorial_."
   ]
  },
  {
   "cell_type": "code",
   "execution_count": 4,
   "metadata": {},
   "outputs": [
    {
     "name": "stdout",
     "output_type": "stream",
     "text": [
      "+---------------------+-----+\n",
      "|PF GNOMAD_GENOMES ALL|count|\n",
      "+---------------------+-----+\n",
      "|                  0.0|  514|\n",
      "|                  0.1|  112|\n",
      "|                  0.2|   75|\n",
      "|                  0.3|   97|\n",
      "|                  0.4|   77|\n",
      "|                  0.5|   26|\n",
      "|                  0.6|   35|\n",
      "|                  0.7|   23|\n",
      "|                  0.8|   18|\n",
      "|                  0.9|   15|\n",
      "|                  1.0|    8|\n",
      "+---------------------+-----+\n",
      "\n"
     ]
    }
   ],
   "source": [
    "facet_df = oskar.facet(df, \"popFreq__GNOMAD_GENOMES__ALL[0..1]:0.1\")\n",
    "facet_df.select(round(facet_df[\"popFreq__GNOMAD_GENOMES__ALLRange\"], 2).alias(\"PF GNOMAD_GENOMES ALL\"), \"count\").show()"
   ]
  },
  {
   "cell_type": "code",
   "execution_count": 8,
   "metadata": {},
   "outputs": [
    {
     "name": "stdout",
     "output_type": "stream",
     "text": [
      "+------------------------+-----+\n",
      "|pf_hgvauser@platinum_ALL|count|\n",
      "+------------------------+-----+\n",
      "|                     0.0|   41|\n",
      "|                     0.1|   15|\n",
      "|                     0.2|   14|\n",
      "|                     0.3|   10|\n",
      "|                     0.4|    7|\n",
      "|                     0.5|  714|\n",
      "|                     0.6|   68|\n",
      "|                     0.7|   49|\n",
      "|                     0.8|   12|\n",
      "|                     0.9|   21|\n",
      "|                     1.0|   48|\n",
      "+------------------------+-----+\n",
      "\n"
     ]
    }
   ],
   "source": [
    "stats_df = oskar.stats(df)\n",
    "facet_df = oskar.facet(stats_df, \"stats__hgvauser@platinum:illumina_platinum__ALL[0..1]:0.1\")\n",
    "facet_df.select(round(facet_df[\"stats__hgvauser@platinum:illumina_platinum__ALLRange\"], 2).alias(\"pf_hgvauser@platinum_ALL\"),\"count\").show()"
   ]
  },
  {
   "cell_type": "markdown",
   "metadata": {},
   "source": [
    "## Aggregation facets\n",
    "Facets also provide the option of substituting the _count()_ function by these other mathematical operations:\n",
    " - Average [<span style=\"color:#ff6600\"> **avg** </span>]\n",
    " - Maximum [<span style=\"color:#ff6600\"> **max** </span>]\n",
    " - Minimum [<span style=\"color:#ff6600\"> **min** </span>]\n",
    " - Sumatory [<span style=\"color:#ff6600\"> **sum** </span>]\n",
    " - Squared sumatory [<span style=\"color:#ff6600\"> **sumsq** </span>]\n",
    " - Standard deviation [<span style=\"color:#ff6600\"> **stddev** </span>]\n",
    " - Variance [<span style=\"color:#ff6600\"> **var** </span>]\n",
    " - Percentile values [<span style=\"color:#ff6600\"> **percentile** </span>]\n",
    " - Set of values [<span style=\"color:#ff6600\"> **unique** </span>]"
   ]
  },
  {
   "cell_type": "code",
   "execution_count": 6,
   "metadata": {},
   "outputs": [
    {
     "name": "stdout",
     "output_type": "stream",
     "text": [
      "+-------------------+-----+\n",
      "|avg(gerp)          |count|\n",
      "+-------------------+-----+\n",
      "|-0.3518712293113349|1000 |\n",
      "+-------------------+-----+\n",
      "\n"
     ]
    }
   ],
   "source": [
    "oskar.facet(df, \"avg(gerp)\").show(truncate = False)"
   ]
  },
  {
   "cell_type": "code",
   "execution_count": 11,
   "metadata": {},
   "outputs": [
    {
     "name": "stdout",
     "output_type": "stream",
     "text": [
      "+---------------------------------------------------------------------------------------+-----+\n",
      "|percentile(gerp)                                                                       |count|\n",
      "+---------------------------------------------------------------------------------------+-----+\n",
      "|[-2.152000093460083, -0.6257500052452087, 0.0, 0.14900000393390656, 0.7430999755859375]|1000 |\n",
      "+---------------------------------------------------------------------------------------+-----+\n",
      "\n"
     ]
    }
   ],
   "source": [
    "oskar.facet(df, \"percentile(gerp)\").show(truncate = False)"
   ]
  },
  {
   "cell_type": "markdown",
   "metadata": {},
   "source": [
    "## Nested facets\n",
    "Nesting allows us to concatenate gruops and reach complex studies by using \">>\" separator."
   ]
  },
  {
   "cell_type": "code",
   "execution_count": 52,
   "metadata": {},
   "outputs": [
    {
     "name": "stdout",
     "output_type": "stream",
     "text": [
      "+-----------------------+--------------------+-----+\n",
      "|biotype                |ct                  |count|\n",
      "+-----------------------+--------------------+-----+\n",
      "|nonsense_mediated_decay|splice_donor_variant|1    |\n",
      "|processed_transcript   |splice_donor_variant|1    |\n",
      "|protein_coding         |splice_donor_variant|1    |\n",
      "|retained_intron        |splice_donor_variant|1    |\n",
      "+-----------------------+--------------------+-----+\n",
      "\n"
     ]
    }
   ],
   "source": [
    "oskar.facet(df, \"biotype>>ct[splice_donor_variant]\").show(truncate = False)"
   ]
  },
  {
   "cell_type": "markdown",
   "metadata": {},
   "source": [
    "## Final facets\n",
    "Now it is up to us to mix all these ingredients:"
   ]
  },
  {
   "cell_type": "code",
   "execution_count": 122,
   "metadata": {},
   "outputs": [
    {
     "name": "stdout",
     "output_type": "stream",
     "text": [
      "+-----+-----------------------+-------------+----------------+--------------------+-----+\n",
      "|gene |biotype                |cadd_rawRange|cadd_scaledRange|min(phylop)         |count|\n",
      "+-----+-----------------------+-------------+----------------+--------------------+-----+\n",
      "|AIFM3|lincRNA                |0.2          |6.0             |-0.2809999883174896 |1    |\n",
      "|AIFM3|nonsense_mediated_decay|0.2          |6.0             |-0.2809999883174896 |1    |\n",
      "|AIFM3|processed_transcript   |0.2          |6.0             |-0.2809999883174896 |1    |\n",
      "|AIFM3|protein_coding         |0.2          |6.0             |-0.2809999883174896 |1    |\n",
      "|AIFM3|retained_intron        |0.2          |6.0             |-0.2809999883174896 |1    |\n",
      "|GGT1 |nonsense_mediated_decay|-0.2         |0.0             |-1.1380000114440918 |2    |\n",
      "|GGT1 |nonsense_mediated_decay|0.0          |1.0             |0.10199999809265137 |2    |\n",
      "|GGT1 |nonsense_mediated_decay|0.0          |2.0             |0.054999999701976776|1    |\n",
      "|GGT1 |nonsense_mediated_decay|0.0          |4.0             |0.2809999883174896  |1    |\n",
      "|GGT1 |nonsense_mediated_decay|0.4          |7.0             |-1.50600004196167   |2    |\n",
      "|GGT1 |processed_transcript   |-0.2         |0.0             |0.10199999809265137 |1    |\n",
      "|GGT1 |processed_transcript   |0.0          |1.0             |0.10199999809265137 |1    |\n",
      "|GGT1 |processed_transcript   |0.0          |2.0             |0.054999999701976776|1    |\n",
      "|GGT1 |processed_transcript   |0.0          |4.0             |0.2809999883174896  |1    |\n",
      "|GGT1 |processed_transcript   |0.4          |7.0             |-1.50600004196167   |2    |\n",
      "|GGT1 |protein_coding         |-0.2         |0.0             |-1.1380000114440918 |2    |\n",
      "|GGT1 |protein_coding         |0.0          |1.0             |0.10199999809265137 |2    |\n",
      "|GGT1 |protein_coding         |0.0          |2.0             |0.054999999701976776|1    |\n",
      "|GGT1 |protein_coding         |0.0          |4.0             |0.2809999883174896  |1    |\n",
      "|GGT1 |protein_coding         |0.4          |7.0             |-1.50600004196167   |2    |\n",
      "|GGT1 |retained_intron        |-0.2         |0.0             |0.10199999809265137 |1    |\n",
      "|GGT1 |retained_intron        |0.0          |1.0             |0.10199999809265137 |2    |\n",
      "|GGT1 |retained_intron        |0.4          |7.0             |-0.7080000042915344 |1    |\n",
      "|GGT1 |sense_intronic         |-0.2         |0.0             |-1.1380000114440918 |1    |\n",
      "|GGT1 |unprocessed_pseudogene |0.4          |7.0             |-1.50600004196167   |1    |\n",
      "+-----+-----------------------+-------------+----------------+--------------------+-----+\n",
      "\n"
     ]
    }
   ],
   "source": [
    "oskar.facet(df, \"gene[AIFM3,GGT1]>>biotype>>cadd_raw[-10..10]:0.2>>cadd_scaled[-10..10]:1>>min(phylop)\").show(25, truncate = False)"
   ]
  },
  {
   "cell_type": "code",
   "execution_count": 16,
   "metadata": {},
   "outputs": [
    {
     "name": "stdout",
     "output_type": "stream",
     "text": [
      "+----+--------+-----+\n",
      "|type|indel_pf|count|\n",
      "+----+--------+-----+\n",
      "| SNV|     0.0|  478|\n",
      "| SNV|     0.1|   95|\n",
      "| SNV|     0.2|   57|\n",
      "| SNV|     0.3|   90|\n",
      "| SNV|     0.4|   66|\n",
      "| SNV|     0.5|   21|\n",
      "+----+--------+-----+\n",
      "\n",
      "+-----+--------+-----+\n",
      "| type|indel_pf|count|\n",
      "+-----+--------+-----+\n",
      "|INDEL|     0.0|   36|\n",
      "|INDEL|     0.1|   17|\n",
      "|INDEL|     0.2|   18|\n",
      "|INDEL|     0.3|    7|\n",
      "|INDEL|     0.4|   11|\n",
      "|INDEL|     0.5|    5|\n",
      "+-----+--------+-----+\n",
      "\n"
     ]
    }
   ],
   "source": [
    "snv_pandas = oskar.facet(df, \"type[SNV]>>popFreq__GNOMAD_GENOMES__ALL[0..0.5]:0.1\")\n",
    "snv_pandas.select(\"type\", round(snv_pandas[\"popFreq__GNOMAD_GENOMES__ALLRange\"], 2).alias(\"indel_pf\"), \"count\").show()\n",
    "indel_pandas = oskar.facet(df, \"type[INDEL]>>popFreq__GNOMAD_GENOMES__ALL[0..0.5]:0.1\")\n",
    "indel_pandas.select(\"type\", round(indel_pandas[\"popFreq__GNOMAD_GENOMES__ALLRange\"], 2).alias(\"indel_pf\"), \"count\").show()"
   ]
  },
  {
   "cell_type": "code",
   "execution_count": 2,
   "metadata": {},
   "outputs": [
    {
     "data": {
      "text/html": [
       "<script type=\"text/javascript\">window.PlotlyConfig = {MathJaxConfig: 'local'};</script><script type=\"text/javascript\">if (window.MathJax) {MathJax.Hub.Config({SVG: {font: \"STIX-Web\"}});}</script><script>requirejs.config({paths: { 'plotly': ['https://cdn.plot.ly/plotly-latest.min']},});if(!window._Plotly) {require(['plotly'],function(plotly) {window._Plotly=plotly;});}</script>"
      ],
      "text/vnd.plotly.v1+html": [
       "<script type=\"text/javascript\">window.PlotlyConfig = {MathJaxConfig: 'local'};</script><script type=\"text/javascript\">if (window.MathJax) {MathJax.Hub.Config({SVG: {font: \"STIX-Web\"}});}</script><script>requirejs.config({paths: { 'plotly': ['https://cdn.plot.ly/plotly-latest.min']},});if(!window._Plotly) {require(['plotly'],function(plotly) {window._Plotly=plotly;});}</script>"
      ]
     },
     "metadata": {},
     "output_type": "display_data"
    },
    {
     "data": {
      "application/vnd.plotly.v1+json": {
       "config": {
        "linkText": "Export to plot.ly",
        "plotlyServerURL": "https://plot.ly",
        "showLink": false
       },
       "data": [
        {
         "domain": {
          "x": [
           0,
           0.48
          ]
         },
         "hole": 0.4,
         "labels": [
          0,
          0.1,
          0.2,
          0.3,
          0.4,
          0.5
         ],
         "type": "pie",
         "uid": "b0d90d0f-192f-4fdc-96cc-7bdb15d9535e",
         "values": [
          478,
          95,
          57,
          90,
          66,
          21
         ]
        },
        {
         "domain": {
          "x": [
           0.51,
           1
          ]
         },
         "hole": 0.4,
         "labels": [
          0,
          0.1,
          0.2,
          0.3,
          0.4,
          0.5
         ],
         "type": "pie",
         "uid": "0ea609a1-4e8e-4003-bef9-4639db4bcb3b",
         "values": [
          36,
          17,
          18,
          7,
          11,
          5
         ]
        }
       ],
       "layout": {
        "annotations": [
         {
          "font": {
           "size": 18
          },
          "showarrow": false,
          "text": "SNV",
          "x": 0.22,
          "y": 0.5
         },
         {
          "font": {
           "size": 18
          },
          "showarrow": false,
          "text": "INDEL",
          "x": 0.78,
          "y": 0.5
         }
        ],
        "autosize": false,
        "height": 600,
        "title": {
         "text": "Global alternate population frequencies [ALL]"
        },
        "width": 1400
       }
      },
      "image/png": "[encoded data removed]",
      "text/html": [
       "<div id=\"b1cde08a-c5e0-4734-b1d2-d18c1f689ef7\" style=\"height: 600px; width: 1400px;\" class=\"plotly-graph-div\"></div><script type=\"text/javascript\">require([\"plotly\"], function(Plotly) { window.PLOTLYENV=window.PLOTLYENV || {};window.PLOTLYENV.BASE_URL=\"https://plot.ly\";Plotly.newPlot(\"b1cde08a-c5e0-4734-b1d2-d18c1f689ef7\", [{\"domain\": {\"x\": [0, 0.48]}, \"hole\": 0.4, \"labels\": [0.0, 0.1, 0.2, 0.3, 0.4, 0.5], \"values\": [478, 95, 57, 90, 66, 21], \"type\": \"pie\", \"uid\": \"f0f7a44c-c5ac-4fb5-b8e1-13b7e412d564\"}, {\"domain\": {\"x\": [0.51, 1]}, \"hole\": 0.4, \"labels\": [0.0, 0.1, 0.2, 0.3, 0.4, 0.5], \"values\": [36, 17, 18, 7, 11, 5], \"type\": \"pie\", \"uid\": \"5443c45c-6647-4866-b0a5-340c3ac465aa\"}], {\"annotations\": [{\"font\": {\"size\": 18}, \"showarrow\": false, \"text\": \"SNV\", \"x\": 0.22, \"y\": 0.5}, {\"font\": {\"size\": 18}, \"showarrow\": false, \"text\": \"INDEL\", \"x\": 0.78, \"y\": 0.5}], \"autosize\": false, \"height\": 600, \"title\": {\"text\": \"Global alternate population frequencies [ALL]\"}, \"width\": 1400}, {\"showLink\": false, \"linkText\": \"Export to plot.ly\", \"plotlyServerURL\": \"https://plot.ly\"})});</script>"
      ],
      "text/vnd.plotly.v1+html": [
       "<div id=\"b1cde08a-c5e0-4734-b1d2-d18c1f689ef7\" style=\"height: 600px; width: 1400px;\" class=\"plotly-graph-div\"></div><script type=\"text/javascript\">require([\"plotly\"], function(Plotly) { window.PLOTLYENV=window.PLOTLYENV || {};window.PLOTLYENV.BASE_URL=\"https://plot.ly\";Plotly.newPlot(\"b1cde08a-c5e0-4734-b1d2-d18c1f689ef7\", [{\"domain\": {\"x\": [0, 0.48]}, \"hole\": 0.4, \"labels\": [0.0, 0.1, 0.2, 0.3, 0.4, 0.5], \"values\": [478, 95, 57, 90, 66, 21], \"type\": \"pie\", \"uid\": \"f0f7a44c-c5ac-4fb5-b8e1-13b7e412d564\"}, {\"domain\": {\"x\": [0.51, 1]}, \"hole\": 0.4, \"labels\": [0.0, 0.1, 0.2, 0.3, 0.4, 0.5], \"values\": [36, 17, 18, 7, 11, 5], \"type\": \"pie\", \"uid\": \"5443c45c-6647-4866-b0a5-340c3ac465aa\"}], {\"annotations\": [{\"font\": {\"size\": 18}, \"showarrow\": false, \"text\": \"SNV\", \"x\": 0.22, \"y\": 0.5}, {\"font\": {\"size\": 18}, \"showarrow\": false, \"text\": \"INDEL\", \"x\": 0.78, \"y\": 0.5}], \"autosize\": false, \"height\": 600, \"title\": {\"text\": \"Global alternate population frequencies [ALL]\"}, \"width\": 1400}, {\"showLink\": false, \"linkText\": \"Export to plot.ly\", \"plotlyServerURL\": \"https://plot.ly\"})});</script>"
      ]
     },
     "metadata": {},
     "output_type": "display_data"
    }
   ],
   "source": [
    "import pandas as pd\n",
    "import plotly.offline as py\n",
    "import plotly.graph_objs as go\n",
    "from plotly.offline import init_notebook_mode\n",
    "\n",
    "init_notebook_mode(connected = True)\n",
    "\n",
    "snv_pandas = oskar.facet(df, \"type[SNV]>>popFreq__GNOMAD_GENOMES__ALL[0..0.5]:0.1\").toPandas()\n",
    "indel_pandas = oskar.facet(df, \"type[INDEL]>>popFreq__GNOMAD_GENOMES__ALL[0..0.5]:0.1\").toPandas()\n",
    "\n",
    "fig = {\n",
    "  \"data\": [\n",
    "    {\n",
    "      \"values\": snv_pandas[\"count\"],\n",
    "      \"labels\": snv_pandas[\"popFreq__GNOMAD_GENOMES__ALLRange\"].round(1),\n",
    "      \"domain\": {\"x\": [0, .48]},\n",
    "      \"hole\": .4,\n",
    "      \"type\": \"pie\"\n",
    "    },\n",
    "    {\n",
    "      \"values\": indel_pandas[\"count\"],\n",
    "      \"labels\": indel_pandas[\"popFreq__GNOMAD_GENOMES__ALLRange\"].round(1),\n",
    "      \"domain\": {\"x\": [.51, 1]},\n",
    "      \"hole\": .4,\n",
    "      \"type\": \"pie\"\n",
    "    }],\n",
    "  \"layout\": {\n",
    "        \"title\":\"Global alternate population frequencies [ALL]\",\n",
    "        \"autosize\":False,\n",
    "        \"width\":1400,\n",
    "        \"height\":600,\n",
    "        \"annotations\": [\n",
    "            {\n",
    "                \"font\": {\n",
    "                    \"size\": 18\n",
    "                },\n",
    "                \"showarrow\": False,\n",
    "                \"text\": \"SNV\",\n",
    "                \"x\": 0.22,\n",
    "                \"y\": 0.5\n",
    "            },\n",
    "            {\n",
    "                \"font\": {\n",
    "                    \"size\": 18\n",
    "                },\n",
    "                \"showarrow\": False,\n",
    "                \"text\": \"INDEL\",\n",
    "                \"x\": 0.78,\n",
    "                \"y\": 0.5\n",
    "            }\n",
    "        ]\n",
    "    }\n",
    "}\n",
    "\n",
    "py.iplot(fig, filename = 'donut')"
   ]
  },
  {
   "cell_type": "markdown",
   "metadata": {},
   "source": [
    "** If you are using jupyter lab you will need to download this extension https://github.com/jupyterlab/jupyter-renderers/tree/master/packages/plotly-extension to visualize the plot*"
   ]
  }
 ],
 "metadata": {
  "kernelspec": {
   "display_name": "Python 3",
   "language": "python",
   "name": "python3"
  },
  "language_info": {
   "codemirror_mode": {
    "name": "ipython",
    "version": 3
   },
   "file_extension": ".py",
   "mimetype": "text/x-python",
   "name": "python",
   "nbconvert_exporter": "python",
   "pygments_lexer": "ipython3",
   "version": "3.6.7"
  }
 },
 "nbformat": 4,
 "nbformat_minor": 2
}
