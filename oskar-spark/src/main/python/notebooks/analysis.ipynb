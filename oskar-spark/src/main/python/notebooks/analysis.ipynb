{
 "cells": [
  {
   "cell_type": "markdown",
   "metadata": {},
   "source": [
    "<img style=\"float: right;\" src=\"https://github.com/roldanx/oskar/blob/develop/oskar-spark/src/main/resources/OpenCB.png?raw=True\">\n",
    "<br>\n",
    "\n",
    "# __Analysis tutorial__\n",
    "\n",
    "In this tutorial you can learn how to perform some well known statistical tests to your set of data. This tests are implemented as part of the functionality of PyOskar API using the _transformers_ Spark model. These kind of functions depend directly from an _Oskar()_ object, and they will return a whole dataframe with the due transformation applied.\n",
    "> <span style=\"color:#ff6600\">__In order to optimise the performance we decided to integrate PyOskar in PySpark default API. This means that it is possible to manage data simultaneously with functions from both libraries in case we want to select specific fields, visualize the dataframe, filter the output or performing other operations besides PyOskar API.__</span>"
   ]
  },
  {
   "cell_type": "markdown",
   "metadata": {},
   "source": [
    "This tutorial will show the next analysis:\n",
    " \n",
    " - ### Poblational analysis\n",
    "- Hardy-Weinberg\n",
    "- Inbereding Coefficient\n",
    "<br>\n",
    "<br>\n",
    " - ### Dataframe analysis\n",
    "- Mendelian Error\n",
    "- Compound Heterozygote\n",
    "- Mode Of Inheritance\n",
    "- Principal Component Analysis\n",
    "<br>\n",
    "<br>\n",
    " - ### Analysis by pairs\n",
    "- Identity By State\n",
    "- Identity By Descent\n",
    "<br>\n",
    "<br>\n",
    " - ### GWAS\n",
    "- Chi-squared test\n",
    "- Fisher test\n",
    "- Transmission Disequilibrium Test"
   ]
  },
  {
   "cell_type": "markdown",
   "metadata": {},
   "source": [
    "Let's see how it works:"
   ]
  },
  {
   "cell_type": "markdown",
   "metadata": {},
   "source": [
    "First, we need to import the PyOskar and PySpark modules. Second, we need to create an instance of the _Oskar()_ object, from which depends a big part of the functionality. Finally, we must use the _load()_ transformer pointing to where the parquet file is stored to convert our data into a DataFrame _df_, and we are ready to start playing."
   ]
  },
  {
   "cell_type": "code",
   "execution_count": 1,
   "metadata": {},
   "outputs": [],
   "source": [
    "from pyoskar.core import Oskar\n",
    "from pyoskar.sql import *\n",
    "from pyoskar.analysis import *\n",
    "from pyspark.sql.functions import *\n",
    "\n",
    "oskar = Oskar(spark)\n",
    "df = oskar.load(\"./data/platinum_chr22.small.parquet\")"
   ]
  },
  {
   "cell_type": "markdown",
   "metadata": {},
   "source": [
    "You can use PySpark _show()_ method to print the data from _df_. This is how our testing dataframe looks like. As you can see for this tutorial we have selected a small dataset from Illumina Platinum Genomes with 1,000 random variants from chromosome 22, which pertain to a set of 17 samples."
   ]
  },
  {
   "cell_type": "code",
   "execution_count": 3,
   "metadata": {},
   "outputs": [
    {
     "name": "stdout",
     "output_type": "stream",
     "text": [
      "Print first 20 variants:\n",
      "+---------------+-----+----------+--------+--------+---------+---------+------+----+------+-----+----+--------------------+--------------------+\n",
      "|             id|names|chromosome|   start|     end|reference|alternate|strand|  sv|length| type|hgvs|             studies|          annotation|\n",
      "+---------------+-----+----------+--------+--------+---------+---------+------+----+------+-----+----+--------------------+--------------------+\n",
      "|22:16054454:C:T|   []|        22|16054454|16054454|        C|        T|     +|null|     1|  SNV|  []|[[hgvauser@platin...|[22, 16054454, 16...|\n",
      "|22:16065809:T:C|   []|        22|16065809|16065809|        T|        C|     +|null|     1|  SNV|  []|[[hgvauser@platin...|[22, 16065809, 16...|\n",
      "|22:16077310:T:A|   []|        22|16077310|16077310|        T|        A|     +|null|     1|  SNV|  []|[[hgvauser@platin...|[22, 16077310, 16...|\n",
      "|22:16080499:A:G|   []|        22|16080499|16080499|        A|        G|     +|null|     1|  SNV|  []|[[hgvauser@platin...|[22, 16080499, 16...|\n",
      "|22:16084621:T:C|   []|        22|16084621|16084621|        T|        C|     +|null|     1|  SNV|  []|[[hgvauser@platin...|[22, 16084621, 16...|\n",
      "|22:16091610:G:T|   []|        22|16091610|16091610|        G|        T|     +|null|     1|  SNV|  []|[[hgvauser@platin...|[22, 16091610, 16...|\n",
      "|22:16096040:G:A|   []|        22|16096040|16096040|        G|        A|     +|null|     1|  SNV|  []|[[hgvauser@platin...|[22, 16096040, 16...|\n",
      "|22:16099957:C:T|   []|        22|16099957|16099957|        C|        T|     +|null|     1|  SNV|  []|[[hgvauser@platin...|[22, 16099957, 16...|\n",
      "|22:16100462:A:G|   []|        22|16100462|16100462|        A|        G|     +|null|     1|  SNV|  []|[[hgvauser@platin...|[22, 16100462, 16...|\n",
      "|22:16105660:G:A|   []|        22|16105660|16105660|        G|        A|     +|null|     1|  SNV|  []|[[hgvauser@platin...|[22, 16105660, 16...|\n",
      "|22:16112391:G:A|   []|        22|16112391|16112391|        G|        A|     +|null|     1|  SNV|  []|[[hgvauser@platin...|[22, 16112391, 16...|\n",
      "|22:16114913:A:T|   []|        22|16114913|16114913|        A|        T|     +|null|     1|  SNV|  []|[[hgvauser@platin...|[22, 16114913, 16...|\n",
      "|22:16127471:A:-|   []|        22|16127471|16127471|        A|         |     +|null|     1|INDEL|  []|[[hgvauser@platin...|[22, 16127471, 16...|\n",
      "|22:16134019:G:T|   []|        22|16134019|16134019|        G|        T|     +|null|     1|  SNV|  []|[[hgvauser@platin...|[22, 16134019, 16...|\n",
      "|22:16138943:C:G|   []|        22|16138943|16138943|        C|        G|     +|null|     1|  SNV|  []|[[hgvauser@platin...|[22, 16138943, 16...|\n",
      "|22:16144239:T:C|   []|        22|16144239|16144239|        T|        C|     +|null|     1|  SNV|  []|[[hgvauser@platin...|[22, 16144239, 16...|\n",
      "|22:16147398:G:A|   []|        22|16147398|16147398|        G|        A|     +|null|     1|  SNV|  []|[[hgvauser@platin...|[22, 16147398, 16...|\n",
      "|22:16149692:G:T|   []|        22|16149692|16149692|        G|        T|     +|null|     1|  SNV|  []|[[hgvauser@platin...|[22, 16149692, 16...|\n",
      "|22:16195955:G:A|   []|        22|16195955|16195955|        G|        A|     +|null|     1|  SNV|  []|[[hgvauser@platin...|[22, 16195955, 16...|\n",
      "|22:16196041:C:T|   []|        22|16196041|16196041|        C|        T|     +|null|     1|  SNV|  []|[[hgvauser@platin...|[22, 16196041, 16...|\n",
      "+---------------+-----+----------+--------+--------+---------+---------+------+----+------+-----+----+--------------------+--------------------+\n",
      "only showing top 20 rows\n",
      "\n"
     ]
    }
   ],
   "source": [
    "print(\"Print first 20 variants:\")\n",
    "df.show()"
   ]
  },
  {
   "cell_type": "markdown",
   "metadata": {},
   "source": [
    "NOTE: With _df.printSchema()_ command you can check the dataset hierarchy and all its fields."
   ]
  },
  {
   "cell_type": "code",
   "execution_count": 5,
   "metadata": {},
   "outputs": [
    {
     "name": "stdout",
     "output_type": "stream",
     "text": [
      "Samples:\n",
      "{'hgvauser@platinum:illumina_platinum': ['NA12877', 'NA12878', 'NA12879', 'NA12880', 'NA12881', 'NA12882', 'NA12883', 'NA12884', 'NA12885', 'NA12886', 'NA12887', 'NA12888', 'NA12889', 'NA12890', 'NA12891', 'NA12892', 'NA12893']}\n"
     ]
    }
   ],
   "source": [
    "print(\"Samples:\")\n",
    "print(oskar.metadata.samples(df))"
   ]
  },
  {
   "cell_type": "code",
   "execution_count": 5,
   "metadata": {},
   "outputs": [
    {
     "name": "stdout",
     "output_type": "stream",
     "text": [
      "Total number of variants:\n"
     ]
    },
    {
     "data": {
      "text/plain": [
       "1000"
      ]
     },
     "execution_count": 5,
     "metadata": {},
     "output_type": "execute_result"
    }
   ],
   "source": [
    "print(\"Total number of variants:\")\n",
    "df.count()"
   ]
  },
  {
   "cell_type": "markdown",
   "metadata": {},
   "source": [
    " We will give a few examples of simple queries that could be of interest for the user:"
   ]
  },
  {
   "cell_type": "markdown",
   "metadata": {},
   "source": [
    "# Poblational analysis"
   ]
  },
  {
   "cell_type": "markdown",
   "metadata": {},
   "source": [
    "## Hardy Weinberg\n",
    "This transformer calculates the Hardy Weinberg Equilibrium based Exact test by using the poblational data stored in the dataframe.\n",
    "<br>\n",
    "<br>\n",
    "Usage:\n",
    "```python\n",
    "hardyWeinberg(df[DataFrame], studyId[str]=None)\n",
    "```"
   ]
  },
  {
   "cell_type": "code",
   "execution_count": 2,
   "metadata": {},
   "outputs": [
    {
     "name": "stdout",
     "output_type": "stream",
     "text": [
      "+---------------+--------------------+\n",
      "|             id|                 HWE|\n",
      "+---------------+--------------------+\n",
      "|22:16054454:C:T|                 1.0|\n",
      "|22:16065809:T:C|                 1.0|\n",
      "|22:16077310:T:A|  0.9254727474972191|\n",
      "|22:16080499:A:G|                 1.0|\n",
      "|22:16084621:T:C|                 1.0|\n",
      "|22:16091610:G:T|                 1.0|\n",
      "|22:16096040:G:A|  0.4746014089729329|\n",
      "|22:16099957:C:T|0.016007636455477054|\n",
      "|22:16100462:A:G|0.001011008618240...|\n",
      "|22:16105660:G:A|  0.3037449017426771|\n",
      "+---------------+--------------------+\n",
      "only showing top 10 rows\n",
      "\n"
     ]
    }
   ],
   "source": [
    "oskar.hardyWeinberg(df, \"hgvauser@platinum:illumina_platinum\").select(\"id\", \"HWE\").show(10)"
   ]
  },
  {
   "cell_type": "code",
   "execution_count": 8,
   "metadata": {},
   "outputs": [
    {
     "name": "stdout",
     "output_type": "stream",
     "text": [
      "+---------------+---------------------+\n",
      "|id             |HWE                  |\n",
      "+---------------+---------------------+\n",
      "|22:16100462:A:G|0.0010110086182406558|\n",
      "|22:16147398:G:A|0.0010112245929821014|\n",
      "|22:16202382:C:T|0.0010110086182406558|\n",
      "|22:16409256:C:A|0.0010110086182406558|\n",
      "|22:16409275:T:C|0.0010110086182406558|\n",
      "|22:16463338:T:C|4.51387209620996E-5  |\n",
      "|22:16847903:T:A|1.1233429091562846E-4|\n",
      "|22:16850925:C:T|1.1233429091562846E-4|\n",
      "|22:16853987:T:C|1.1233429091562846E-4|\n",
      "|22:16854418:G:A|1.1233429091562846E-4|\n",
      "+---------------+---------------------+\n",
      "only showing top 10 rows\n",
      "\n"
     ]
    }
   ],
   "source": [
    "oskar.hardyWeinberg(df, \"hgvauser@platinum:illumina_platinum\").select(\"id\", \"HWE\").filter(\"HWE < 0.005\").show(10, truncate = False)"
   ]
  },
  {
   "cell_type": "markdown",
   "metadata": {},
   "source": [
    "## Inbreeding coefficient\n",
    "This transformer calculates the Hardy Weinberg Equilibrium based Coefficient of Inbreeding by using the poblational data stored in the dataframe. This method needs a previous step carried out by _stats()_ transformer that generates new data inside the DataFrame, and whose functionality is fully explained in the Stats tutorial.\n",
    "<br>\n",
    "<br>\n",
    "Usage:\n",
    "```python\n",
    "inbreedingCoefficient(df[DataFrame], missingGenotypesAsHomRef[bool]=None, includeMultiAllelicGenotypes[bool]=None, mafThreshold[float]=None)\n",
    "```"
   ]
  },
  {
   "cell_type": "code",
   "execution_count": 2,
   "metadata": {},
   "outputs": [
    {
     "name": "stdout",
     "output_type": "stream",
     "text": [
      "+--------+-------------------+-----------+------------------+--------------+\n",
      "|SampleId|F                  |ObservedHom|ExpectedHom       |GenotypesCount|\n",
      "+--------+-------------------+-----------+------------------+--------------+\n",
      "|NA12877 |-0.846697214447447 |67         |211.42520779371262|382           |\n",
      "|NA12878 |-0.876318449583936 |65         |221.4588798880577 |400           |\n",
      "|NA12879 |-0.8380378596211293|69         |219.00477409362793|398           |\n",
      "|NA12880 |-0.85398002158741  |69         |224.6895123720169 |407           |\n",
      "|NA12881 |-0.8671775492595221|65         |227.55130487680435|415           |\n",
      "|NA12882 |-0.7976480874076881|74         |205.34040838479996|370           |\n",
      "|NA12883 |-0.8783264633513055|64         |211.76513189077377|380           |\n",
      "|NA12884 |-0.8136899034620303|72         |204.7967967391014 |368           |\n",
      "|NA12885 |-0.8019791912247425|78         |227.53835332393646|414           |\n",
      "|NA12886 |-0.8364469410381973|70         |222.12706524133682|404           |\n",
      "+--------+-------------------+-----------+------------------+--------------+\n",
      "only showing top 10 rows\n",
      "\n"
     ]
    }
   ],
   "source": [
    "stats_df = oskar.stats(df, studyId = \"hgvauser@platinum:illumina_platinum\")\n",
    "oskar.inbreedingCoefficient(stats_df).show(10, truncate=False)"
   ]
  },
  {
   "cell_type": "markdown",
   "metadata": {},
   "source": [
    "# Dataframe analysis"
   ]
  },
  {
   "cell_type": "markdown",
   "metadata": {},
   "source": [
    "## Mendelian error\n",
    "This transformer looks for variants which can't have been inherited by the specified parent samples.\n",
    "<br>\n",
    "<br>\n",
    "Usage:\n",
    "```python\n",
    "mendel(df[DataFrame], father[str], mother[str], child[str], studyId[str]=None)\n",
    "```"
   ]
  },
  {
   "cell_type": "code",
   "execution_count": 24,
   "metadata": {},
   "outputs": [
    {
     "name": "stdout",
     "output_type": "stream",
     "text": [
      "+---------------+--------------+\n",
      "|             id|mendelianError|\n",
      "+---------------+--------------+\n",
      "|22:16054454:C:T|             0|\n",
      "|22:16065809:T:C|             0|\n",
      "|22:16077310:T:A|             0|\n",
      "|22:16080499:A:G|             0|\n",
      "|22:16084621:T:C|             0|\n",
      "|22:16091610:G:T|             0|\n",
      "|22:16096040:G:A|             0|\n",
      "|22:16099957:C:T|             0|\n",
      "|22:16100462:A:G|             0|\n",
      "|22:16105660:G:A|             0|\n",
      "+---------------+--------------+\n",
      "only showing top 10 rows\n",
      "\n"
     ]
    }
   ],
   "source": [
    "oskar.mendel(df, \"NA12877\", \"NA12878\", \"NA12879\").select(\"id\", \"mendelianError\").show(10)"
   ]
  },
  {
   "cell_type": "code",
   "execution_count": 15,
   "metadata": {},
   "outputs": [
    {
     "name": "stdout",
     "output_type": "stream",
     "text": [
      "+------------------+--------------+\n",
      "|                id|mendelianError|\n",
      "+------------------+--------------+\n",
      "|22:19748211:CCCC:-|             1|\n",
      "+------------------+--------------+\n",
      "\n"
     ]
    }
   ],
   "source": [
    "oskar.mendel(df, \"NA12877\", \"NA12878\", \"NA12879\").select(\"id\", \"mendelianError\").filter(col(\"mendelianError\") != \"0\").show()"
   ]
  },
  {
   "cell_type": "markdown",
   "metadata": {},
   "source": [
    "## Compound heterozygote\n",
    "Compound heterozygote looks for the genes that contain more than one different recessive mutations.\n",
    "<br>\n",
    "<br>\n",
    "Usage:\n",
    "```python\n",
    "compoundHeterozygote(df[DataFrame], father[str], mother[str], child[str], studyId[str]=None, missingGenotypeAsReference[bool]=None)\n",
    "```"
   ]
  },
  {
   "cell_type": "code",
   "execution_count": 3,
   "metadata": {},
   "outputs": [
    {
     "name": "stdout",
     "output_type": "stream",
     "text": [
      "+------------+-----------+---------------+\n",
      "|        gene|numVariants|        variant|\n",
      "+------------+-----------+---------------+\n",
      "|       MED15|          2|22:20875777:G:A|\n",
      "|       MED15|          2|22:20913878:G:A|\n",
      "|        DRG1|          2|22:31860687:T:A|\n",
      "|        DRG1|          2|22:31806674:A:G|\n",
      "|        SYN3|          3| 22:32912206:T:|\n",
      "|        SYN3|          3|22:33174500:G:A|\n",
      "|        SYN3|          3|22:33224439:C:T|\n",
      "|      NBEAP3|          2|22:16105660:G:A|\n",
      "|      NBEAP3|          2|22:16112391:G:A|\n",
      "|RP1-90G24.10|          3|22:32667243:T:C|\n",
      "+------------+-----------+---------------+\n",
      "only showing top 10 rows\n",
      "\n"
     ]
    }
   ],
   "source": [
    "oskar.compoundHeterozygote(df, \"NA12877\", \"NA12878\", \"NA12879\", missingGenotypeAsReference = True).show(10)"
   ]
  },
  {
   "cell_type": "code",
   "execution_count": 10,
   "metadata": {},
   "outputs": [
    {
     "name": "stdout",
     "output_type": "stream",
     "text": [
      "+-----------+-----------+---------------+\n",
      "|       gene|numVariants|        variant|\n",
      "+-----------+-----------+---------------+\n",
      "|CTA-929C8.8|          3|22:27725153:A:G|\n",
      "|CTA-929C8.8|          3|22:27748774:C:T|\n",
      "|CTA-929C8.8|          3|22:27751277:A:G|\n",
      "+-----------+-----------+---------------+\n",
      "\n"
     ]
    }
   ],
   "source": [
    "oskar.compoundHeterozygote(df, \"NA12877\", \"NA12878\", \"NA12879\", missingGenotypeAsReference = True).filter(\"gene == 'CTA-929C8.8'\").show()"
   ]
  },
  {
   "cell_type": "markdown",
   "metadata": {},
   "source": [
    "## Mode Of Inheritance\n",
    "The MOI transformer applies an advanced variant filter based on the parameters specified by the user, which at least define a group of individuals, a mode of inheritance and a phenotype. The user must be sure that the data is well fit inside the DataFrame.\n",
    "<br>\n",
    "<br>\n",
    "Usage:\n",
    "```python\n",
    "modeOfInheritance(df[DataFrame], family[str], modeOfInheritance[str], phenotype[str], studyId[str]=None, incompletePenetrance[bool]=None, missingAsReference[bool]=None):\n",
    "```\n",
    "NOTE: Knowing the DataFrame structure and how to access it with Python default syntax is highly recommended to make the most of PyOskar API. For better understanding of the DataFrame metadata go to _metadata_ tutorial.\n",
    "<br>\n",
    "<br>\n",
    "Here we build a simple example creating a new family from the original one inside the DataFrame:"
   ]
  },
  {
   "cell_type": "code",
   "execution_count": 31,
   "metadata": {},
   "outputs": [
    {
     "name": "stdout",
     "output_type": "stream",
     "text": [
      "+---------------+-----+----------+--------+--------+---------+---------+------+----+------+----+----+--------------------+--------------------+----------+----------+----------+\n",
      "|             id|names|chromosome|   start|     end|reference|alternate|strand|  sv|length|type|hgvs|             studies|          annotation|NA12877_gt|NA12878_gt|NA12879_gt|\n",
      "+---------------+-----+----------+--------+--------+---------+---------+------+----+------+----+----+--------------------+--------------------+----------+----------+----------+\n",
      "|22:17419172:C:T|   []|        22|17419172|17419172|        C|        T|     +|null|     1| SNV|  []|[[hgvauser@platin...|[22, 17419172, 17...|       1/1|       0/1|       1/1|\n",
      "|22:17918536:G:A|   []|        22|17918536|17918536|        G|        A|     +|null|     1| SNV|  []|[[hgvauser@platin...|[22, 17918536, 17...|       1/1|       0/1|       1/1|\n",
      "|22:18406473:C:T|   []|        22|18406473|18406473|        C|        T|     +|null|     1| SNV|  []|[[hgvauser@platin...|[22, 18406473, 18...|       1/1|       0/1|       1/1|\n",
      "|22:18970215:T:C|   []|        22|18970215|18970215|        T|        C|     +|null|     1| SNV|  []|[[hgvauser@platin...|[22, 18970215, 18...|       1/1|       0/1|       1/1|\n",
      "|22:18979405:A:C|   []|        22|18979405|18979405|        A|        C|     +|null|     1| SNV|  []|[[hgvauser@platin...|[22, 18979405, 18...|       1/1|       0/1|       1/1|\n",
      "|22:19432456:G:A|   []|        22|19432456|19432456|        G|        A|     +|null|     1| SNV|  []|[[hgvauser@platin...|[22, 19432456, 19...|       1/1|       0/1|       1/1|\n",
      "|22:21364867:T:A|   []|        22|21364867|21364867|        T|        A|     +|null|     1| SNV|  []|[[hgvauser@platin...|[22, 21364867, 21...|       1/1|       0/1|       1/1|\n",
      "|22:21682130:G:A|   []|        22|21682130|21682130|        G|        A|     +|null|     1| SNV|  []|[[hgvauser@platin...|[22, 21682130, 21...|       1/1|       0/1|       1/1|\n",
      "|22:21917190:G:T|   []|        22|21917190|21917190|        G|        T|     +|null|     1| SNV|  []|[[hgvauser@platin...|[22, 21917190, 21...|       1/1|       0/1|       1/1|\n",
      "|22:23055331:T:C|   []|        22|23055331|23055331|        T|        C|     +|null|     1| SNV|  []|[[hgvauser@platin...|[22, 23055331, 23...|       1/1|       0/1|       1/1|\n",
      "+---------------+-----+----------+--------+--------+---------+---------+------+----+------+----+----+--------------------+--------------------+----------+----------+----------+\n",
      "only showing top 10 rows\n",
      "\n",
      "Number of variants left: \n"
     ]
    },
    {
     "data": {
      "text/plain": [
       "18"
      ]
     },
     "execution_count": 31,
     "metadata": {},
     "output_type": "execute_result"
    }
   ],
   "source": [
    "family = \"example_family\"\n",
    "phenotype = \"ph1\"\n",
    "\n",
    "# Get the DataFrame metadata.\n",
    "variant_metadata = oskar.metadata.variantMetadata(df)\n",
    "\n",
    "# Define the samples we wold like to pertain to the example family.\n",
    "father = variant_metadata[\"studies\"][0][\"individuals\"][0]\n",
    "mother = variant_metadata[\"studies\"][0][\"individuals\"][1]\n",
    "child = variant_metadata[\"studies\"][0][\"individuals\"][2]\n",
    "\n",
    "# Assign our samples to the new family.\n",
    "father[\"family\"] = family\n",
    "mother[\"family\"] = family\n",
    "child[\"family\"] = family\n",
    "\n",
    "# Decide which samples do contain the phenotype.\n",
    "father[\"phenotype\"] = phenotype\n",
    "child[\"phenotype\"] = phenotype\n",
    "\n",
    "# Since the family data is nested inside the pedigree, we need to do this intermediate step. Assigning None parents to this two individuals will \n",
    "# isolate this samples from the rest of the original pedigree.\n",
    "father[\"father\"] = None\n",
    "mother[\"father\"] = None\n",
    "father[\"mother\"] = None\n",
    "mother[\"mother\"] = None\n",
    "\n",
    "# Build the new family example into the DataFrame metadata.\n",
    "example_df = oskar.metadata.setVariantMetadata(df, variant_metadata)\n",
    "\n",
    "# Method execution. Since we made the father and the children\n",
    "filtered_df = oskar.modeOfInheritance(example_df, family, \"biallelic\", phenotype, \"hgvauser@platinum:illumina_platinum\")\n",
    "\n",
    "filtered_df.withColumn(\"NA12877_gt\", genotype(\"studies\", \"NA12877\")).withColumn(\"NA12878_gt\", genotype(\"studies\", \"NA12878\"))\\\n",
    "    .withColumn(\"NA12879_gt\", genotype(\"studies\", \"NA12879\")).show(10)\n",
    "\n",
    "print(\"Number of variants left: \")\n",
    "filtered_df.count()"
   ]
  },
  {
   "cell_type": "markdown",
   "metadata": {},
   "source": [
    "NOTE: _withColumn()_ is a PySpark method used to create or rename columns."
   ]
  },
  {
   "cell_type": "markdown",
   "metadata": {},
   "source": [
    "## Principal Component Analysis\n",
    "PCA transformer executes Principal Component Analysis on the matrix of genotypes. It generates the two _linear combinations_ that maximize the variance in order to explain the position of the samples.\n",
    "<br>\n",
    "<br>\n",
    "Usage:\n",
    "```python\n",
    "PCA(df[DataFrame], studyId[str], k[int])\n",
    "```"
   ]
  },
  {
   "cell_type": "code",
   "execution_count": 2,
   "metadata": {},
   "outputs": [
    {
     "name": "stdout",
     "output_type": "stream",
     "text": [
      "+-----------------------------------------+\n",
      "|PCA                                      |\n",
      "+-----------------------------------------+\n",
      "|[-0.43644430332454426,0.6737223874321668]|\n",
      "|[0.8046320150333987,-4.9311364641740605] |\n",
      "|[0.16454960208488836,3.269977952968316]  |\n",
      "|[-8.178276339427914,0.5649863046838403]  |\n",
      "|[-8.600385411426448,0.5351793625995385]  |\n",
      "|[10.666442759373458,-2.334493171757709]  |\n",
      "|[3.1211559857736524,-8.282113873642208]  |\n",
      "|[9.987587545030271,-1.0617944763905738]  |\n",
      "|[-11.203805092104098,-1.7594304506956864]|\n",
      "|[0.8671683487080387,-11.200184632527845] |\n",
      "|[-1.4166985131466336,-12.283959142715803]|\n",
      "|[5.946562114426899,3.1143416387171334]   |\n",
      "|[6.483690918332042,-3.2509956302771332]  |\n",
      "|[-7.779096715136355,7.1449000274932954]  |\n",
      "|[7.249421849096672,4.931086662450811]    |\n",
      "|[-7.731916657864592,-7.5386933429911815] |\n",
      "|[-1.1942400677744835,-11.943771793464872]|\n",
      "+-----------------------------------------+\n",
      "\n"
     ]
    }
   ],
   "source": [
    "oskar.PCA(df, \"hgvauser@platinum:illumina_platinum\", 2).show(truncate=False)"
   ]
  },
  {
   "cell_type": "code",
   "execution_count": 2,
   "metadata": {},
   "outputs": [
    {
     "data": {
      "text/html": [
       "<script type=\"text/javascript\">window.PlotlyConfig = {MathJaxConfig: 'local'};</script><script type=\"text/javascript\">if (window.MathJax) {MathJax.Hub.Config({SVG: {font: \"STIX-Web\"}});}</script><script>requirejs.config({paths: { 'plotly': ['https://cdn.plot.ly/plotly-latest.min']},});if(!window._Plotly) {require(['plotly'],function(plotly) {window._Plotly=plotly;});}</script>"
      ],
      "text/vnd.plotly.v1+html": [
       "<script type=\"text/javascript\">window.PlotlyConfig = {MathJaxConfig: 'local'};</script><script type=\"text/javascript\">if (window.MathJax) {MathJax.Hub.Config({SVG: {font: \"STIX-Web\"}});}</script><script>requirejs.config({paths: { 'plotly': ['https://cdn.plot.ly/plotly-latest.min']},});if(!window._Plotly) {require(['plotly'],function(plotly) {window._Plotly=plotly;});}</script>"
      ]
     },
     "metadata": {},
     "output_type": "display_data"
    },
    {
     "data": {
      "application/vnd.plotly.v1+json": {
       "config": {
        "linkText": "Export to plot.ly",
        "plotlyServerURL": "https://plot.ly",
        "showLink": false
       },
       "data": [
        {
         "mode": "markers",
         "text": [
          "NA12877",
          "NA12878",
          "NA12879",
          "NA12880",
          "NA12881",
          "NA12882",
          "NA12883",
          "NA12884",
          "NA12885",
          "NA12886",
          "NA12887",
          "NA12888",
          "NA12889",
          "NA12890",
          "NA12891",
          "NA12892",
          "NA12893"
         ],
         "type": "scatter",
         "uid": "8d58fa62-3b90-4302-915d-881a38a6fc93",
         "x": [
          -0.43644430332454426,
          0.8046320150333987,
          0.16454960208488836,
          -8.178276339427914,
          -8.600385411426448,
          10.666442759373458,
          3.1211559857736524,
          9.987587545030271,
          -11.203805092104098,
          0.8671683487080387,
          -1.4166985131466336,
          5.946562114426899,
          6.483690918332042,
          -7.779096715136355,
          7.249421849096672,
          -7.731916657864592,
          -1.1942400677744835
         ],
         "y": [
          0.6737223874321668,
          -4.9311364641740605,
          3.269977952968316,
          0.5649863046838403,
          0.5351793625995385,
          -2.334493171757709,
          -8.282113873642208,
          -1.0617944763905738,
          -1.7594304506956864,
          -11.200184632527845,
          -12.283959142715803,
          3.1143416387171334,
          -3.2509956302771332,
          7.1449000274932954,
          4.931086662450811,
          -7.5386933429911815,
          -11.943771793464872
         ]
        }
       ],
       "layout": {
        "height": 500,
        "title": {
         "text": "PCA Scatter"
        },
        "width": 1440,
        "xaxis": {
         "autorange": true,
         "range": [
          -12.49843968532175,
          11.961077352591111
         ],
         "type": "linear"
        },
        "yaxis": {
         "autorange": true,
         "range": [
          -13.65194477056475,
          8.512885655342242
         ],
         "type": "linear"
        }
       }
      },
      "image/png": "[encoded data removed]",
      "text/html": [
       "<div id=\"98e9c969-9e8c-4e3e-a306-4c81a9f23e37\" style=\"height: 500px; width: 1440px;\" class=\"plotly-graph-div\"></div><script type=\"text/javascript\">require([\"plotly\"], function(Plotly) { window.PLOTLYENV=window.PLOTLYENV || {};window.PLOTLYENV.BASE_URL=\"https://plot.ly\";Plotly.newPlot(\"98e9c969-9e8c-4e3e-a306-4c81a9f23e37\", [{\"mode\": \"markers\", \"text\": [\"NA12877\", \"NA12878\", \"NA12879\", \"NA12880\", \"NA12881\", \"NA12882\", \"NA12883\", \"NA12884\", \"NA12885\", \"NA12886\", \"NA12887\", \"NA12888\", \"NA12889\", \"NA12890\", \"NA12891\", \"NA12892\", \"NA12893\"], \"x\": [-0.43644430332454426, 0.8046320150333987, 0.16454960208488836, -8.178276339427914, -8.600385411426448, 10.666442759373458, 3.1211559857736524, 9.987587545030271, -11.203805092104098, 0.8671683487080387, -1.4166985131466336, 5.946562114426899, 6.483690918332042, -7.779096715136355, 7.249421849096672, -7.731916657864592, -1.1942400677744835], \"y\": [0.6737223874321668, -4.9311364641740605, 3.269977952968316, 0.5649863046838403, 0.5351793625995385, -2.334493171757709, -8.282113873642208, -1.0617944763905738, -1.7594304506956864, -11.200184632527845, -12.283959142715803, 3.1143416387171334, -3.2509956302771332, 7.1449000274932954, 4.931086662450811, -7.5386933429911815, -11.943771793464872], \"type\": \"scatter\", \"uid\": \"8d58fa62-3b90-4302-915d-881a38a6fc93\"}], {\"title\": {\"text\": \"PCA Scatter\"}, \"width\": 1440, \"height\": 500}, {\"showLink\": false, \"linkText\": \"Export to plot.ly\", \"plotlyServerURL\": \"https://plot.ly\"})});</script>"
      ],
      "text/vnd.plotly.v1+html": [
       "<div id=\"98e9c969-9e8c-4e3e-a306-4c81a9f23e37\" style=\"height: 500px; width: 1440px;\" class=\"plotly-graph-div\"></div><script type=\"text/javascript\">require([\"plotly\"], function(Plotly) { window.PLOTLYENV=window.PLOTLYENV || {};window.PLOTLYENV.BASE_URL=\"https://plot.ly\";Plotly.newPlot(\"98e9c969-9e8c-4e3e-a306-4c81a9f23e37\", [{\"mode\": \"markers\", \"text\": [\"NA12877\", \"NA12878\", \"NA12879\", \"NA12880\", \"NA12881\", \"NA12882\", \"NA12883\", \"NA12884\", \"NA12885\", \"NA12886\", \"NA12887\", \"NA12888\", \"NA12889\", \"NA12890\", \"NA12891\", \"NA12892\", \"NA12893\"], \"x\": [-0.43644430332454426, 0.8046320150333987, 0.16454960208488836, -8.178276339427914, -8.600385411426448, 10.666442759373458, 3.1211559857736524, 9.987587545030271, -11.203805092104098, 0.8671683487080387, -1.4166985131466336, 5.946562114426899, 6.483690918332042, -7.779096715136355, 7.249421849096672, -7.731916657864592, -1.1942400677744835], \"y\": [0.6737223874321668, -4.9311364641740605, 3.269977952968316, 0.5649863046838403, 0.5351793625995385, -2.334493171757709, -8.282113873642208, -1.0617944763905738, -1.7594304506956864, -11.200184632527845, -12.283959142715803, 3.1143416387171334, -3.2509956302771332, 7.1449000274932954, 4.931086662450811, -7.5386933429911815, -11.943771793464872], \"type\": \"scatter\", \"uid\": \"8d58fa62-3b90-4302-915d-881a38a6fc93\"}], {\"title\": {\"text\": \"PCA Scatter\"}, \"width\": 1440, \"height\": 500}, {\"showLink\": false, \"linkText\": \"Export to plot.ly\", \"plotlyServerURL\": \"https://plot.ly\"})});</script>"
      ]
     },
     "metadata": {},
     "output_type": "display_data"
    }
   ],
   "source": [
    "import plotly.offline as py\n",
    "import plotly.graph_objs as go\n",
    "from plotly.offline import init_notebook_mode\n",
    "\n",
    "init_notebook_mode(connected=True)\n",
    "\n",
    "PCA_df = oskar.PCA(df, \"hgvauser@platinum:illumina_platinum\", 2).toPandas()\n",
    "samples = oskar.metadata.samples(df, \"hgvauser@platinum:illumina_platinum\")\n",
    "\n",
    "X = []\n",
    "for i in PCA_df[\"PCA\"]:\n",
    "    X.append(i[0])\n",
    "Y = []\n",
    "for i in PCA_df[\"PCA\"]:\n",
    "    Y.append(i[1])\n",
    "\n",
    "trace = go.Scatter(x = X, y = Y, text = samples, mode = 'markers')\n",
    "fig = go.Figure(data = [trace])\n",
    "fig['layout'].update({\"title\":\"PCA Scatter\", 'width':1440, 'height':500})\n",
    "\n",
    "py.iplot(fig)"
   ]
  },
  {
   "cell_type": "markdown",
   "metadata": {},
   "source": [
    "** If you are using jupyter lab you will need to download this extension https://github.com/jupyterlab/jupyter-renderers/tree/master/packages/plotly-extension to visualize the plot*"
   ]
  },
  {
   "cell_type": "markdown",
   "metadata": {},
   "source": [
    "<br>"
   ]
  },
  {
   "cell_type": "markdown",
   "metadata": {},
   "source": [
    "# Analysis by pairs"
   ]
  },
  {
   "cell_type": "markdown",
   "metadata": {},
   "source": [
    "## Identity by state\n",
    "An interesting test we may want to execute is IBS, wich could give us important information about genotype similarity.\n",
    "<br>\n",
    "<br>\n",
    "Usage:\n",
    "```python\n",
    "ibd(df[DataFrame], samples[list<str>]=None, skipMultiAllelic[bool]=None, skipReference[bool]=None, numPairs[int]=None)\n",
    "```"
   ]
  },
  {
   "cell_type": "code",
   "execution_count": 26,
   "metadata": {},
   "outputs": [
    {
     "name": "stdout",
     "output_type": "stream",
     "text": [
      "+------------------+------------------+------------+--------+----+\n",
      "|        samplePair|          distance|      counts|variants|skip|\n",
      "+------------------+------------------+------------+--------+----+\n",
      "|[NA12877, NA12878]|0.8928571428571429|[0, 57, 209]|     266| 734|\n",
      "|[NA12877, NA12879]|0.9155629139072847|[0, 51, 251]|     302| 698|\n",
      "|[NA12877, NA12880]|0.9028662420382165|[0, 61, 253]|     314| 686|\n",
      "|[NA12877, NA12881]|0.9116719242902208|[0, 56, 261]|     317| 683|\n",
      "|[NA12877, NA12882]|0.8934707903780069|[0, 62, 229]|     291| 709|\n",
      "|[NA12877, NA12883]| 0.891156462585034|[0, 64, 230]|     294| 706|\n",
      "|[NA12877, NA12884]|0.8904109589041096|[0, 64, 228]|     292| 708|\n",
      "|[NA12877, NA12885]|0.9115755627009646|[0, 55, 256]|     311| 689|\n",
      "|[NA12877, NA12886]| 0.909967845659164|[0, 56, 255]|     311| 689|\n",
      "|[NA12877, NA12887]|0.9096989966555183|[0, 54, 245]|     299| 701|\n",
      "+------------------+------------------+------------+--------+----+\n",
      "only showing top 10 rows\n",
      "\n"
     ]
    }
   ],
   "source": [
    "oskar.ibs(df).show(10)"
   ]
  },
  {
   "cell_type": "markdown",
   "metadata": {},
   "source": [
    "In case we don't specify any samples it will run the whole dataframe samples, but we may want to check similarity between particular individuals:"
   ]
  },
  {
   "cell_type": "code",
   "execution_count": 3,
   "metadata": {},
   "outputs": [
    {
     "name": "stdout",
     "output_type": "stream",
     "text": [
      "+------------------+------------------+------------+--------+----+\n",
      "|        samplePair|          distance|      counts|variants|skip|\n",
      "+------------------+------------------+------------+--------+----+\n",
      "|[NA12877, NA12878]|0.8928571428571429|[0, 57, 209]|     266| 734|\n",
      "|[NA12877, NA12879]|0.9155629139072847|[0, 51, 251]|     302| 698|\n",
      "|[NA12877, NA12880]|0.9028662420382165|[0, 61, 253]|     314| 686|\n",
      "|[NA12877, NA12881]|0.9116719242902208|[0, 56, 261]|     317| 683|\n",
      "|[NA12877, NA12882]|0.8934707903780069|[0, 62, 229]|     291| 709|\n",
      "|[NA12878, NA12879]|0.8857615894039735|[0, 69, 233]|     302| 698|\n",
      "|[NA12878, NA12880]|0.8888888888888888|[0, 72, 252]|     324| 676|\n",
      "|[NA12878, NA12881]|0.8931888544891641|[0, 69, 254]|     323| 677|\n",
      "|[NA12878, NA12882]|0.9064516129032258|[0, 58, 252]|     310| 690|\n",
      "|[NA12879, NA12880]|0.9016666666666666|[0, 59, 241]|     300| 700|\n",
      "|[NA12879, NA12881]|0.9033333333333333|[0, 58, 242]|     300| 700|\n",
      "|[NA12879, NA12882]|0.9325259515570934|[0, 39, 250]|     289| 711|\n",
      "|[NA12880, NA12881]|0.9961240310077519| [0, 3, 384]|     387| 613|\n",
      "|[NA12880, NA12882]|0.8857142857142857|[0, 64, 216]|     280| 720|\n",
      "|[NA12881, NA12882]|0.8915441176470589|[0, 59, 213]|     272| 728|\n",
      "+------------------+------------------+------------+--------+----+\n",
      "\n"
     ]
    }
   ],
   "source": [
    "oskar.ibs(df, samples = [\"NA12877\", \"NA12878\", \"NA12879\", \"NA12880\", \"NA12881\", \"NA12882\"]).show()"
   ]
  },
  {
   "cell_type": "markdown",
   "metadata": {},
   "source": [
    "## Identity by descent\n",
    "Some other interesting test we may want to execute is IBD, wich could give us important information about common ancestors.\n",
    "<br>\n",
    "<br>\n",
    "Usage:\n",
    "```python\n",
    "ibd(df[DataFrame], samples[list<str>]=None, skipMultiAllelic[bool]=None, skipReference[bool]=None, numPairs[int]=None)\n",
    "```"
   ]
  },
  {
   "cell_type": "code",
   "execution_count": 27,
   "metadata": {},
   "outputs": [
    {
     "name": "stdout",
     "output_type": "stream",
     "text": [
      "+------------------+------------------+------------+--------+----+---------------+------+\n",
      "|        samplePair|          distance|      counts|variants|skip|            IBD|PI_HAT|\n",
      "+------------------+------------------+------------+--------+----+---------------+------+\n",
      "|[NA12877, NA12878]|0.8928571428571429|[0, 57, 209]|     266| 734|[NaN, NaN, NaN]|   NaN|\n",
      "|[NA12877, NA12879]|0.9155629139072847|[0, 51, 251]|     302| 698|[NaN, NaN, NaN]|   NaN|\n",
      "|[NA12877, NA12880]|0.9028662420382165|[0, 61, 253]|     314| 686|[NaN, NaN, NaN]|   NaN|\n",
      "|[NA12877, NA12881]|0.9116719242902208|[0, 56, 261]|     317| 683|[NaN, NaN, NaN]|   NaN|\n",
      "|[NA12877, NA12882]|0.8934707903780069|[0, 62, 229]|     291| 709|[NaN, NaN, NaN]|   NaN|\n",
      "|[NA12877, NA12883]| 0.891156462585034|[0, 64, 230]|     294| 706|[NaN, NaN, NaN]|   NaN|\n",
      "|[NA12877, NA12884]|0.8904109589041096|[0, 64, 228]|     292| 708|[NaN, NaN, NaN]|   NaN|\n",
      "|[NA12877, NA12885]|0.9115755627009646|[0, 55, 256]|     311| 689|[NaN, NaN, NaN]|   NaN|\n",
      "|[NA12877, NA12886]| 0.909967845659164|[0, 56, 255]|     311| 689|[NaN, NaN, NaN]|   NaN|\n",
      "|[NA12877, NA12887]|0.9096989966555183|[0, 54, 245]|     299| 701|[NaN, NaN, NaN]|   NaN|\n",
      "+------------------+------------------+------------+--------+----+---------------+------+\n",
      "only showing top 10 rows\n",
      "\n"
     ]
    }
   ],
   "source": [
    "oskar.ibd(df).show(10)"
   ]
  },
  {
   "cell_type": "code",
   "execution_count": 33,
   "metadata": {},
   "outputs": [],
   "source": [
    "# oskar.ibd(df, samples = [\"NA12880\", \"NA12881\", \"NA12882\", \"NA12883\", \"NA12884\"]).show(10)"
   ]
  },
  {
   "cell_type": "code",
   "execution_count": 3,
   "metadata": {},
   "outputs": [
    {
     "data": {
      "text/html": [
       "<script type=\"text/javascript\">window.PlotlyConfig = {MathJaxConfig: 'local'};</script><script type=\"text/javascript\">if (window.MathJax) {MathJax.Hub.Config({SVG: {font: \"STIX-Web\"}});}</script><script>requirejs.config({paths: { 'plotly': ['https://cdn.plot.ly/plotly-latest.min']},});if(!window._Plotly) {require(['plotly'],function(plotly) {window._Plotly=plotly;});}</script>"
      ],
      "text/vnd.plotly.v1+html": [
       "<script type=\"text/javascript\">window.PlotlyConfig = {MathJaxConfig: 'local'};</script><script type=\"text/javascript\">if (window.MathJax) {MathJax.Hub.Config({SVG: {font: \"STIX-Web\"}});}</script><script>requirejs.config({paths: { 'plotly': ['https://cdn.plot.ly/plotly-latest.min']},});if(!window._Plotly) {require(['plotly'],function(plotly) {window._Plotly=plotly;});}</script>"
      ]
     },
     "metadata": {},
     "output_type": "display_data"
    },
    {
     "data": {
      "application/vnd.plotly.v1+json": {
       "config": {
        "linkText": "Export to plot.ly",
        "plotlyServerURL": "https://plot.ly",
        "showLink": false
       },
       "data": [
        {
         "hoverinfo": "text",
         "marker": {
          "color": "rgb(61,153,112)"
         },
         "mode": "lines",
         "type": "scatter",
         "uid": "6c35ee91-1900-41af-9714-a96fd7a2b3c3",
         "x": [
          25,
          25,
          35,
          35
         ],
         "xaxis": "x",
         "y": [
          0,
          0.027188050175338128,
          0.027188050175338128,
          0
         ],
         "yaxis": "y"
        },
        {
         "hoverinfo": "text",
         "marker": {
          "color": "rgb(61,153,112)"
         },
         "mode": "lines",
         "type": "scatter",
         "uid": "9fc90165-4b33-4883-8d6d-fddb1e30e524",
         "x": [
          15,
          15,
          30,
          30
         ],
         "xaxis": "x",
         "y": [
          0,
          0.07431544365237512,
          0.07431544365237512,
          0.027188050175338128
         ],
         "yaxis": "y"
        },
        {
         "hoverinfo": "text",
         "marker": {
          "color": "rgb(61,153,112)"
         },
         "mode": "lines",
         "type": "scatter",
         "uid": "2d17e813-6355-4846-9711-cf22f72a3fbc",
         "x": [
          5,
          5,
          22.5,
          22.5
         ],
         "xaxis": "x",
         "y": [
          0,
          0.12272535930662469,
          0.12272535930662469,
          0.07431544365237512
         ],
         "yaxis": "y"
        },
        {
         "hoverinfo": "text",
         "marker": {
          "color": "rgb(255,65,54)"
         },
         "mode": "lines",
         "type": "scatter",
         "uid": "b73fe7b6-6523-48b7-b13f-da94aa7aeb2c",
         "x": [
          65,
          65,
          75,
          75
         ],
         "xaxis": "x",
         "y": [
          0,
          0.031138564107394368,
          0.031138564107394368,
          0
         ],
         "yaxis": "y"
        },
        {
         "hoverinfo": "text",
         "marker": {
          "color": "rgb(255,65,54)"
         },
         "mode": "lines",
         "type": "scatter",
         "uid": "5e6a03e2-5de7-463a-b55d-a471787b530a",
         "x": [
          55,
          55,
          70,
          70
         ],
         "xaxis": "x",
         "y": [
          0,
          0.04813540625111968,
          0.04813540625111968,
          0.031138564107394368
         ],
         "yaxis": "y"
        },
        {
         "hoverinfo": "text",
         "marker": {
          "color": "rgb(255,65,54)"
         },
         "mode": "lines",
         "type": "scatter",
         "uid": "8c4b17d2-bdbe-4a50-9cc6-3defdde7e584",
         "x": [
          45,
          45,
          62.5,
          62.5
         ],
         "xaxis": "x",
         "y": [
          0,
          0.13252795274700635,
          0.13252795274700635,
          0.04813540625111968
         ],
         "yaxis": "y"
        },
        {
         "hoverinfo": "text",
         "marker": {
          "color": "rgb(0,116,217)"
         },
         "mode": "lines",
         "type": "scatter",
         "uid": "cfcc66a2-9167-4d48-bede-d32e92f57f7e",
         "x": [
          13.75,
          13.75,
          53.75,
          53.75
         ],
         "xaxis": "x",
         "y": [
          0.12272535930662469,
          0.2302046984705954,
          0.2302046984705954,
          0.13252795274700635
         ],
         "yaxis": "y"
        },
        {
         "hoverinfo": "text",
         "marker": {
          "color": "rgb(35,205,205)"
         },
         "mode": "lines",
         "type": "scatter",
         "uid": "5b3a1c74-76db-4803-a23e-efd33436b768",
         "x": [
          115,
          115,
          125,
          125
         ],
         "xaxis": "x",
         "y": [
          0,
          0.015918473173345066,
          0.015918473173345066,
          0
         ],
         "yaxis": "y"
        },
        {
         "hoverinfo": "text",
         "marker": {
          "color": "rgb(35,205,205)"
         },
         "mode": "lines",
         "type": "scatter",
         "uid": "32289309-10af-46cd-a031-697266ab94fd",
         "x": [
          105,
          105,
          120,
          120
         ],
         "xaxis": "x",
         "y": [
          0,
          0.09309606001679316,
          0.09309606001679316,
          0.015918473173345066
         ],
         "yaxis": "y"
        },
        {
         "hoverinfo": "text",
         "marker": {
          "color": "rgb(35,205,205)"
         },
         "mode": "lines",
         "type": "scatter",
         "uid": "18f7b21e-3141-4acf-82c3-a1a2f2d4f362",
         "x": [
          95,
          95,
          112.5,
          112.5
         ],
         "xaxis": "x",
         "y": [
          0,
          0.1527436042543653,
          0.1527436042543653,
          0.09309606001679316
         ],
         "yaxis": "y"
        },
        {
         "hoverinfo": "text",
         "marker": {
          "color": "rgb(35,205,205)"
         },
         "mode": "lines",
         "type": "scatter",
         "uid": "1bb5b9d1-d026-4893-ace3-000159532763",
         "x": [
          85,
          85,
          103.75,
          103.75
         ],
         "xaxis": "x",
         "y": [
          0,
          0.16344575224292435,
          0.16344575224292435,
          0.1527436042543653
         ],
         "yaxis": "y"
        },
        {
         "hoverinfo": "text",
         "marker": {
          "color": "rgb(133,20,75)"
         },
         "mode": "lines",
         "type": "scatter",
         "uid": "49975206-4ccc-4dfc-a82c-ed0b0293d3f9",
         "x": [
          155,
          155,
          165,
          165
         ],
         "xaxis": "x",
         "y": [
          0,
          0.14507399841664007,
          0.14507399841664007,
          0
         ],
         "yaxis": "y"
        },
        {
         "hoverinfo": "text",
         "marker": {
          "color": "rgb(133,20,75)"
         },
         "mode": "lines",
         "type": "scatter",
         "uid": "070ff5b6-aebf-41bc-b7a1-aa7da497247e",
         "x": [
          145,
          145,
          160,
          160
         ],
         "xaxis": "x",
         "y": [
          0,
          0.17095567600302936,
          0.17095567600302936,
          0.14507399841664007
         ],
         "yaxis": "y"
        },
        {
         "hoverinfo": "text",
         "marker": {
          "color": "rgb(133,20,75)"
         },
         "mode": "lines",
         "type": "scatter",
         "uid": "8ff0b429-16a3-489b-9caf-bd34dbd4a2ed",
         "x": [
          135,
          135,
          152.5,
          152.5
         ],
         "xaxis": "x",
         "y": [
          0,
          0.2003111141086912,
          0.2003111141086912,
          0.17095567600302936
         ],
         "yaxis": "y"
        },
        {
         "hoverinfo": "text",
         "marker": {
          "color": "rgb(0,116,217)"
         },
         "mode": "lines",
         "type": "scatter",
         "uid": "b9e8c3b7-7766-4c59-a675-9f0e7220bf2b",
         "x": [
          94.375,
          94.375,
          143.75,
          143.75
         ],
         "xaxis": "x",
         "y": [
          0.16344575224292435,
          0.2385881107790424,
          0.2385881107790424,
          0.2003111141086912
         ],
         "yaxis": "y"
        },
        {
         "hoverinfo": "text",
         "marker": {
          "color": "rgb(0,116,217)"
         },
         "mode": "lines",
         "type": "scatter",
         "uid": "3a6a3a7c-ea37-43fc-ba57-1c30848cf8b9",
         "x": [
          33.75,
          33.75,
          119.0625,
          119.0625
         ],
         "xaxis": "x",
         "y": [
          0.2302046984705954,
          0.28368819121448,
          0.28368819121448,
          0.2385881107790424
         ],
         "yaxis": "y"
        }
       ],
       "layout": {
        "autosize": false,
        "height": 500,
        "hovermode": "closest",
        "showlegend": true,
        "title": {
         "text": "IBS"
        },
        "width": 1440,
        "xaxis": {
         "autorange": true,
         "mirror": "allticks",
         "range": [
          0,
          165
         ],
         "rangemode": "tozero",
         "showgrid": false,
         "showline": true,
         "showticklabels": true,
         "tickmode": "array",
         "ticks": "outside",
         "ticktext": [
          "NA12892",
          "NA12885",
          "NA12880",
          "NA12881",
          "NA12883",
          "NA12886",
          "NA12887",
          "NA12893",
          "NA12879",
          "NA12889",
          "NA12888",
          "NA12882",
          "NA12884",
          "NA12891",
          "NA12878",
          "NA12877",
          "NA12890"
         ],
         "tickvals": [
          5,
          15,
          25,
          35,
          45,
          55,
          65,
          75,
          85,
          95,
          105,
          115,
          125,
          135,
          145,
          155,
          165
         ],
         "type": "linear",
         "zeroline": false
        },
        "yaxis": {
         "autorange": true,
         "mirror": "allticks",
         "range": [
          0,
          0.2986191486468211
         ],
         "rangemode": "tozero",
         "showgrid": false,
         "showline": true,
         "showticklabels": true,
         "ticks": "outside",
         "title": {
          "text": "distance"
         },
         "type": "linear",
         "zeroline": false
        }
       }
      },
      "image/png": "[encoded data removed]",
      "text/html": [
       "<div id=\"d6f74512-b392-4519-9b60-046c9610b60d\" style=\"height: 500px; width: 1440px;\" class=\"plotly-graph-div\"></div><script type=\"text/javascript\">require([\"plotly\"], function(Plotly) { window.PLOTLYENV=window.PLOTLYENV || {};window.PLOTLYENV.BASE_URL=\"https://plot.ly\";Plotly.newPlot(\"d6f74512-b392-4519-9b60-046c9610b60d\", [{\"hoverinfo\": \"text\", \"marker\": {\"color\": \"rgb(61,153,112)\"}, \"mode\": \"lines\", \"x\": [25.0, 25.0, 35.0, 35.0], \"xaxis\": \"x\", \"y\": [0.0, 0.027188050175338128, 0.027188050175338128, 0.0], \"yaxis\": \"y\", \"type\": \"scatter\", \"uid\": \"6c35ee91-1900-41af-9714-a96fd7a2b3c3\"}, {\"hoverinfo\": \"text\", \"marker\": {\"color\": \"rgb(61,153,112)\"}, \"mode\": \"lines\", \"x\": [15.0, 15.0, 30.0, 30.0], \"xaxis\": \"x\", \"y\": [0.0, 0.07431544365237512, 0.07431544365237512, 0.027188050175338128], \"yaxis\": \"y\", \"type\": \"scatter\", \"uid\": \"9fc90165-4b33-4883-8d6d-fddb1e30e524\"}, {\"hoverinfo\": \"text\", \"marker\": {\"color\": \"rgb(61,153,112)\"}, \"mode\": \"lines\", \"x\": [5.0, 5.0, 22.5, 22.5], \"xaxis\": \"x\", \"y\": [0.0, 0.12272535930662469, 0.12272535930662469, 0.07431544365237512], \"yaxis\": \"y\", \"type\": \"scatter\", \"uid\": \"2d17e813-6355-4846-9711-cf22f72a3fbc\"}, {\"hoverinfo\": \"text\", \"marker\": {\"color\": \"rgb(255,65,54)\"}, \"mode\": \"lines\", \"x\": [65.0, 65.0, 75.0, 75.0], \"xaxis\": \"x\", \"y\": [0.0, 0.031138564107394368, 0.031138564107394368, 0.0], \"yaxis\": \"y\", \"type\": \"scatter\", \"uid\": \"b73fe7b6-6523-48b7-b13f-da94aa7aeb2c\"}, {\"hoverinfo\": \"text\", \"marker\": {\"color\": \"rgb(255,65,54)\"}, \"mode\": \"lines\", \"x\": [55.0, 55.0, 70.0, 70.0], \"xaxis\": \"x\", \"y\": [0.0, 0.04813540625111968, 0.04813540625111968, 0.031138564107394368], \"yaxis\": \"y\", \"type\": \"scatter\", \"uid\": \"5e6a03e2-5de7-463a-b55d-a471787b530a\"}, {\"hoverinfo\": \"text\", \"marker\": {\"color\": \"rgb(255,65,54)\"}, \"mode\": \"lines\", \"x\": [45.0, 45.0, 62.5, 62.5], \"xaxis\": \"x\", \"y\": [0.0, 0.13252795274700635, 0.13252795274700635, 0.04813540625111968], \"yaxis\": \"y\", \"type\": \"scatter\", \"uid\": \"8c4b17d2-bdbe-4a50-9cc6-3defdde7e584\"}, {\"hoverinfo\": \"text\", \"marker\": {\"color\": \"rgb(0,116,217)\"}, \"mode\": \"lines\", \"x\": [13.75, 13.75, 53.75, 53.75], \"xaxis\": \"x\", \"y\": [0.12272535930662469, 0.2302046984705954, 0.2302046984705954, 0.13252795274700635], \"yaxis\": \"y\", \"type\": \"scatter\", \"uid\": \"cfcc66a2-9167-4d48-bede-d32e92f57f7e\"}, {\"hoverinfo\": \"text\", \"marker\": {\"color\": \"rgb(35,205,205)\"}, \"mode\": \"lines\", \"x\": [115.0, 115.0, 125.0, 125.0], \"xaxis\": \"x\", \"y\": [0.0, 0.015918473173345066, 0.015918473173345066, 0.0], \"yaxis\": \"y\", \"type\": \"scatter\", \"uid\": \"5b3a1c74-76db-4803-a23e-efd33436b768\"}, {\"hoverinfo\": \"text\", \"marker\": {\"color\": \"rgb(35,205,205)\"}, \"mode\": \"lines\", \"x\": [105.0, 105.0, 120.0, 120.0], \"xaxis\": \"x\", \"y\": [0.0, 0.09309606001679316, 0.09309606001679316, 0.015918473173345066], \"yaxis\": \"y\", \"type\": \"scatter\", \"uid\": \"32289309-10af-46cd-a031-697266ab94fd\"}, {\"hoverinfo\": \"text\", \"marker\": {\"color\": \"rgb(35,205,205)\"}, \"mode\": \"lines\", \"x\": [95.0, 95.0, 112.5, 112.5], \"xaxis\": \"x\", \"y\": [0.0, 0.1527436042543653, 0.1527436042543653, 0.09309606001679316], \"yaxis\": \"y\", \"type\": \"scatter\", \"uid\": \"18f7b21e-3141-4acf-82c3-a1a2f2d4f362\"}, {\"hoverinfo\": \"text\", \"marker\": {\"color\": \"rgb(35,205,205)\"}, \"mode\": \"lines\", \"x\": [85.0, 85.0, 103.75, 103.75], \"xaxis\": \"x\", \"y\": [0.0, 0.16344575224292435, 0.16344575224292435, 0.1527436042543653], \"yaxis\": \"y\", \"type\": \"scatter\", \"uid\": \"1bb5b9d1-d026-4893-ace3-000159532763\"}, {\"hoverinfo\": \"text\", \"marker\": {\"color\": \"rgb(133,20,75)\"}, \"mode\": \"lines\", \"x\": [155.0, 155.0, 165.0, 165.0], \"xaxis\": \"x\", \"y\": [0.0, 0.14507399841664007, 0.14507399841664007, 0.0], \"yaxis\": \"y\", \"type\": \"scatter\", \"uid\": \"49975206-4ccc-4dfc-a82c-ed0b0293d3f9\"}, {\"hoverinfo\": \"text\", \"marker\": {\"color\": \"rgb(133,20,75)\"}, \"mode\": \"lines\", \"x\": [145.0, 145.0, 160.0, 160.0], \"xaxis\": \"x\", \"y\": [0.0, 0.17095567600302936, 0.17095567600302936, 0.14507399841664007], \"yaxis\": \"y\", \"type\": \"scatter\", \"uid\": \"070ff5b6-aebf-41bc-b7a1-aa7da497247e\"}, {\"hoverinfo\": \"text\", \"marker\": {\"color\": \"rgb(133,20,75)\"}, \"mode\": \"lines\", \"x\": [135.0, 135.0, 152.5, 152.5], \"xaxis\": \"x\", \"y\": [0.0, 0.2003111141086912, 0.2003111141086912, 0.17095567600302936], \"yaxis\": \"y\", \"type\": \"scatter\", \"uid\": \"8ff0b429-16a3-489b-9caf-bd34dbd4a2ed\"}, {\"hoverinfo\": \"text\", \"marker\": {\"color\": \"rgb(0,116,217)\"}, \"mode\": \"lines\", \"x\": [94.375, 94.375, 143.75, 143.75], \"xaxis\": \"x\", \"y\": [0.16344575224292435, 0.2385881107790424, 0.2385881107790424, 0.2003111141086912], \"yaxis\": \"y\", \"type\": \"scatter\", \"uid\": \"b9e8c3b7-7766-4c59-a675-9f0e7220bf2b\"}, {\"hoverinfo\": \"text\", \"marker\": {\"color\": \"rgb(0,116,217)\"}, \"mode\": \"lines\", \"x\": [33.75, 33.75, 119.0625, 119.0625], \"xaxis\": \"x\", \"y\": [0.2302046984705954, 0.28368819121448, 0.28368819121448, 0.2385881107790424], \"yaxis\": \"y\", \"type\": \"scatter\", \"uid\": \"3a6a3a7c-ea37-43fc-ba57-1c30848cf8b9\"}], {\"autosize\": false, \"height\": 500, \"hovermode\": \"closest\", \"showlegend\": true, \"width\": 1440, \"xaxis\": {\"mirror\": \"allticks\", \"rangemode\": \"tozero\", \"showgrid\": false, \"showline\": true, \"showticklabels\": true, \"tickmode\": \"array\", \"ticks\": \"outside\", \"ticktext\": [\"NA12892\", \"NA12885\", \"NA12880\", \"NA12881\", \"NA12883\", \"NA12886\", \"NA12887\", \"NA12893\", \"NA12879\", \"NA12889\", \"NA12888\", \"NA12882\", \"NA12884\", \"NA12891\", \"NA12878\", \"NA12877\", \"NA12890\"], \"tickvals\": [5.0, 15.0, 25.0, 35.0, 45.0, 55.0, 65.0, 75.0, 85.0, 95.0, 105.0, 115.0, 125.0, 135.0, 145.0, 155.0, 165.0], \"type\": \"linear\", \"zeroline\": false}, \"yaxis\": {\"mirror\": \"allticks\", \"rangemode\": \"tozero\", \"showgrid\": false, \"showline\": true, \"showticklabels\": true, \"ticks\": \"outside\", \"type\": \"linear\", \"zeroline\": false, \"title\": {\"text\": \"distance\"}}, \"title\": {\"text\": \"IBS\"}}, {\"showLink\": false, \"linkText\": \"Export to plot.ly\", \"plotlyServerURL\": \"https://plot.ly\"})});</script>"
      ],
      "text/vnd.plotly.v1+html": [
       "<div id=\"d6f74512-b392-4519-9b60-046c9610b60d\" style=\"height: 500px; width: 1440px;\" class=\"plotly-graph-div\"></div><script type=\"text/javascript\">require([\"plotly\"], function(Plotly) { window.PLOTLYENV=window.PLOTLYENV || {};window.PLOTLYENV.BASE_URL=\"https://plot.ly\";Plotly.newPlot(\"d6f74512-b392-4519-9b60-046c9610b60d\", [{\"hoverinfo\": \"text\", \"marker\": {\"color\": \"rgb(61,153,112)\"}, \"mode\": \"lines\", \"x\": [25.0, 25.0, 35.0, 35.0], \"xaxis\": \"x\", \"y\": [0.0, 0.027188050175338128, 0.027188050175338128, 0.0], \"yaxis\": \"y\", \"type\": \"scatter\", \"uid\": \"6c35ee91-1900-41af-9714-a96fd7a2b3c3\"}, {\"hoverinfo\": \"text\", \"marker\": {\"color\": \"rgb(61,153,112)\"}, \"mode\": \"lines\", \"x\": [15.0, 15.0, 30.0, 30.0], \"xaxis\": \"x\", \"y\": [0.0, 0.07431544365237512, 0.07431544365237512, 0.027188050175338128], \"yaxis\": \"y\", \"type\": \"scatter\", \"uid\": \"9fc90165-4b33-4883-8d6d-fddb1e30e524\"}, {\"hoverinfo\": \"text\", \"marker\": {\"color\": \"rgb(61,153,112)\"}, \"mode\": \"lines\", \"x\": [5.0, 5.0, 22.5, 22.5], \"xaxis\": \"x\", \"y\": [0.0, 0.12272535930662469, 0.12272535930662469, 0.07431544365237512], \"yaxis\": \"y\", \"type\": \"scatter\", \"uid\": \"2d17e813-6355-4846-9711-cf22f72a3fbc\"}, {\"hoverinfo\": \"text\", \"marker\": {\"color\": \"rgb(255,65,54)\"}, \"mode\": \"lines\", \"x\": [65.0, 65.0, 75.0, 75.0], \"xaxis\": \"x\", \"y\": [0.0, 0.031138564107394368, 0.031138564107394368, 0.0], \"yaxis\": \"y\", \"type\": \"scatter\", \"uid\": \"b73fe7b6-6523-48b7-b13f-da94aa7aeb2c\"}, {\"hoverinfo\": \"text\", \"marker\": {\"color\": \"rgb(255,65,54)\"}, \"mode\": \"lines\", \"x\": [55.0, 55.0, 70.0, 70.0], \"xaxis\": \"x\", \"y\": [0.0, 0.04813540625111968, 0.04813540625111968, 0.031138564107394368], \"yaxis\": \"y\", \"type\": \"scatter\", \"uid\": \"5e6a03e2-5de7-463a-b55d-a471787b530a\"}, {\"hoverinfo\": \"text\", \"marker\": {\"color\": \"rgb(255,65,54)\"}, \"mode\": \"lines\", \"x\": [45.0, 45.0, 62.5, 62.5], \"xaxis\": \"x\", \"y\": [0.0, 0.13252795274700635, 0.13252795274700635, 0.04813540625111968], \"yaxis\": \"y\", \"type\": \"scatter\", \"uid\": \"8c4b17d2-bdbe-4a50-9cc6-3defdde7e584\"}, {\"hoverinfo\": \"text\", \"marker\": {\"color\": \"rgb(0,116,217)\"}, \"mode\": \"lines\", \"x\": [13.75, 13.75, 53.75, 53.75], \"xaxis\": \"x\", \"y\": [0.12272535930662469, 0.2302046984705954, 0.2302046984705954, 0.13252795274700635], \"yaxis\": \"y\", \"type\": \"scatter\", \"uid\": \"cfcc66a2-9167-4d48-bede-d32e92f57f7e\"}, {\"hoverinfo\": \"text\", \"marker\": {\"color\": \"rgb(35,205,205)\"}, \"mode\": \"lines\", \"x\": [115.0, 115.0, 125.0, 125.0], \"xaxis\": \"x\", \"y\": [0.0, 0.015918473173345066, 0.015918473173345066, 0.0], \"yaxis\": \"y\", \"type\": \"scatter\", \"uid\": \"5b3a1c74-76db-4803-a23e-efd33436b768\"}, {\"hoverinfo\": \"text\", \"marker\": {\"color\": \"rgb(35,205,205)\"}, \"mode\": \"lines\", \"x\": [105.0, 105.0, 120.0, 120.0], \"xaxis\": \"x\", \"y\": [0.0, 0.09309606001679316, 0.09309606001679316, 0.015918473173345066], \"yaxis\": \"y\", \"type\": \"scatter\", \"uid\": \"32289309-10af-46cd-a031-697266ab94fd\"}, {\"hoverinfo\": \"text\", \"marker\": {\"color\": \"rgb(35,205,205)\"}, \"mode\": \"lines\", \"x\": [95.0, 95.0, 112.5, 112.5], \"xaxis\": \"x\", \"y\": [0.0, 0.1527436042543653, 0.1527436042543653, 0.09309606001679316], \"yaxis\": \"y\", \"type\": \"scatter\", \"uid\": \"18f7b21e-3141-4acf-82c3-a1a2f2d4f362\"}, {\"hoverinfo\": \"text\", \"marker\": {\"color\": \"rgb(35,205,205)\"}, \"mode\": \"lines\", \"x\": [85.0, 85.0, 103.75, 103.75], \"xaxis\": \"x\", \"y\": [0.0, 0.16344575224292435, 0.16344575224292435, 0.1527436042543653], \"yaxis\": \"y\", \"type\": \"scatter\", \"uid\": \"1bb5b9d1-d026-4893-ace3-000159532763\"}, {\"hoverinfo\": \"text\", \"marker\": {\"color\": \"rgb(133,20,75)\"}, \"mode\": \"lines\", \"x\": [155.0, 155.0, 165.0, 165.0], \"xaxis\": \"x\", \"y\": [0.0, 0.14507399841664007, 0.14507399841664007, 0.0], \"yaxis\": \"y\", \"type\": \"scatter\", \"uid\": \"49975206-4ccc-4dfc-a82c-ed0b0293d3f9\"}, {\"hoverinfo\": \"text\", \"marker\": {\"color\": \"rgb(133,20,75)\"}, \"mode\": \"lines\", \"x\": [145.0, 145.0, 160.0, 160.0], \"xaxis\": \"x\", \"y\": [0.0, 0.17095567600302936, 0.17095567600302936, 0.14507399841664007], \"yaxis\": \"y\", \"type\": \"scatter\", \"uid\": \"070ff5b6-aebf-41bc-b7a1-aa7da497247e\"}, {\"hoverinfo\": \"text\", \"marker\": {\"color\": \"rgb(133,20,75)\"}, \"mode\": \"lines\", \"x\": [135.0, 135.0, 152.5, 152.5], \"xaxis\": \"x\", \"y\": [0.0, 0.2003111141086912, 0.2003111141086912, 0.17095567600302936], \"yaxis\": \"y\", \"type\": \"scatter\", \"uid\": \"8ff0b429-16a3-489b-9caf-bd34dbd4a2ed\"}, {\"hoverinfo\": \"text\", \"marker\": {\"color\": \"rgb(0,116,217)\"}, \"mode\": \"lines\", \"x\": [94.375, 94.375, 143.75, 143.75], \"xaxis\": \"x\", \"y\": [0.16344575224292435, 0.2385881107790424, 0.2385881107790424, 0.2003111141086912], \"yaxis\": \"y\", \"type\": \"scatter\", \"uid\": \"b9e8c3b7-7766-4c59-a675-9f0e7220bf2b\"}, {\"hoverinfo\": \"text\", \"marker\": {\"color\": \"rgb(0,116,217)\"}, \"mode\": \"lines\", \"x\": [33.75, 33.75, 119.0625, 119.0625], \"xaxis\": \"x\", \"y\": [0.2302046984705954, 0.28368819121448, 0.28368819121448, 0.2385881107790424], \"yaxis\": \"y\", \"type\": \"scatter\", \"uid\": \"3a6a3a7c-ea37-43fc-ba57-1c30848cf8b9\"}], {\"autosize\": false, \"height\": 500, \"hovermode\": \"closest\", \"showlegend\": true, \"width\": 1440, \"xaxis\": {\"mirror\": \"allticks\", \"rangemode\": \"tozero\", \"showgrid\": false, \"showline\": true, \"showticklabels\": true, \"tickmode\": \"array\", \"ticks\": \"outside\", \"ticktext\": [\"NA12892\", \"NA12885\", \"NA12880\", \"NA12881\", \"NA12883\", \"NA12886\", \"NA12887\", \"NA12893\", \"NA12879\", \"NA12889\", \"NA12888\", \"NA12882\", \"NA12884\", \"NA12891\", \"NA12878\", \"NA12877\", \"NA12890\"], \"tickvals\": [5.0, 15.0, 25.0, 35.0, 45.0, 55.0, 65.0, 75.0, 85.0, 95.0, 105.0, 115.0, 125.0, 135.0, 145.0, 155.0, 165.0], \"type\": \"linear\", \"zeroline\": false}, \"yaxis\": {\"mirror\": \"allticks\", \"rangemode\": \"tozero\", \"showgrid\": false, \"showline\": true, \"showticklabels\": true, \"ticks\": \"outside\", \"type\": \"linear\", \"zeroline\": false, \"title\": {\"text\": \"distance\"}}, \"title\": {\"text\": \"IBS\"}}, {\"showLink\": false, \"linkText\": \"Export to plot.ly\", \"plotlyServerURL\": \"https://plot.ly\"})});</script>"
      ]
     },
     "metadata": {},
     "output_type": "display_data"
    }
   ],
   "source": [
    "import numpy as np\n",
    "import plotly.offline as py\n",
    "import plotly.figure_factory as ff\n",
    "from plotly.offline import init_notebook_mode\n",
    "\n",
    "init_notebook_mode(connected = True)\n",
    "\n",
    "OskarIBS = oskar.ibs(df).toPandas()\n",
    "samples_list = []\n",
    "samples_dict = {}\n",
    "num_of_values = len(OskarIBS)\n",
    "for i in range(len(OskarIBS)):\n",
    "    sample = OskarIBS[\"samplePair\"][i][0]\n",
    "    if not sample in samples_dict:\n",
    "        samples_list.append(sample)\n",
    "        samples_dict[sample] = []\n",
    "    samples_dict[sample].append(1 - OskarIBS[\"distance\"][i])\n",
    "samples_dict[OskarIBS[\"samplePair\"][num_of_values - 1][1]] = []\n",
    "samples_list.append(OskarIBS[\"samplePair\"][num_of_values - 1][1])\n",
    "\n",
    "num_of_samples = len(samples_dict)\n",
    "X = np.zeros((num_of_samples,num_of_samples))\n",
    "\n",
    "for j in range(0, num_of_samples - 1):    \n",
    "    for i in range(j + 1, num_of_samples):\n",
    "        X[i,j] = samples_dict[samples_list[j]][i - 1 - j]\n",
    "        X[j,i] = samples_dict[samples_list[j]][i - 1 - j]\n",
    "\n",
    "fig = ff.create_dendrogram(X, labels = samples_list, color_threshold = 0.21)\n",
    "yaxis = {'title': 'distance'}\n",
    "fig['layout'].update({'title':'IBS', 'width':1440, 'height':500, 'showlegend':True, 'yaxis':yaxis})\n",
    "\n",
    "py.iplot(fig)"
   ]
  },
  {
   "cell_type": "markdown",
   "metadata": {},
   "source": [
    "** If you are using jupyter lab you will need to download this extension https://github.com/jupyterlab/jupyter-renderers/tree/master/packages/plotly-extension to visualize the plot*"
   ]
  },
  {
   "cell_type": "markdown",
   "metadata": {},
   "source": [
    "<br>"
   ]
  },
  {
   "cell_type": "markdown",
   "metadata": {},
   "source": [
    "# GWAS"
   ]
  },
  {
   "cell_type": "markdown",
   "metadata": {},
   "source": [
    "These GWAS transformers take the poblational information stored in the DataFrame metadata to calculate the corresponding significance values. The user will need to specify a particular study and the phenotype he aims to analyze. \n",
    "<br>\n",
    "<br>\n",
    "NOTE: Knowing the DataFrame structure and how to access it with Python default syntax is highly recommended to make the most of PyOskar API. For better understanding of the DataFrame metadata go to _metadata_ tutorial\n",
    "<br>\n",
    "<br>\n",
    "This is how the metadata pertaining to the samples looks like:"
   ]
  },
  {
   "cell_type": "code",
   "execution_count": 4,
   "metadata": {},
   "outputs": [
    {
     "name": "stdout",
     "output_type": "stream",
     "text": [
      "[{'id': 'NA12877', 'family': 'FF', 'father': 'NA12889', 'mother': 'NA12890', 'sex': 'MALE', 'phenotype': 'JJ', 'samples': [{'id': 'NA12877', 'annotations': {}}]}, {'id': 'NA12878', 'family': 'FF', 'father': 'NA12891', 'mother': 'NA12892', 'sex': 'FEMALE', 'phenotype': 'LL', 'samples': [{'id': 'NA12878', 'annotations': {}}]}, {'id': 'NA12879', 'family': 'FF', 'father': 'NA12877', 'mother': 'NA12878', 'sex': 'FEMALE', 'phenotype': 'JJ', 'samples': [{'id': 'NA12879', 'annotations': {}}]}, {'id': 'NA12880', 'family': 'FF', 'father': 'NA12877', 'mother': 'NA12878', 'sex': 'FEMALE', 'phenotype': 'KK', 'samples': [{'id': 'NA12880', 'annotations': {}}]}, {'id': 'NA12881', 'family': 'FF', 'father': 'NA12877', 'mother': 'NA12878', 'sex': 'FEMALE', 'phenotype': 'JJ', 'samples': [{'id': 'NA12881', 'annotations': {}}]}, {'id': 'NA12882', 'family': 'FF', 'father': 'NA12877', 'mother': 'NA12878', 'sex': 'MALE', 'phenotype': 'JJ', 'samples': [{'id': 'NA12882', 'annotations': {}}]}, {'id': 'NA12883', 'family': 'FF', 'father': 'NA12877', 'mother': 'NA12878', 'sex': 'MALE', 'phenotype': 'KK', 'samples': [{'id': 'NA12883', 'annotations': {}}]}, {'id': 'NA12884', 'family': 'FF', 'father': 'NA12877', 'mother': 'NA12878', 'sex': 'MALE', 'phenotype': 'JJ', 'samples': [{'id': 'NA12884', 'annotations': {}}]}, {'id': 'NA12885', 'family': 'FF', 'father': 'NA12877', 'mother': 'NA12878', 'sex': 'FEMALE', 'phenotype': 'LL', 'samples': [{'id': 'NA12885', 'annotations': {}}]}, {'id': 'NA12886', 'family': 'FF', 'father': 'NA12877', 'mother': 'NA12878', 'sex': 'MALE', 'phenotype': 'KK', 'samples': [{'id': 'NA12886', 'annotations': {}}]}, {'id': 'NA12887', 'family': 'FF', 'father': 'NA12877', 'mother': 'NA12878', 'sex': 'FEMALE', 'phenotype': 'LL', 'samples': [{'id': 'NA12887', 'annotations': {}}]}, {'id': 'NA12888', 'family': 'FF', 'father': 'NA12877', 'mother': 'NA12878', 'sex': 'MALE', 'phenotype': 'JJ', 'samples': [{'id': 'NA12888', 'annotations': {}}]}, {'id': 'NA12889', 'family': 'FF', 'sex': 'MALE', 'phenotype': 'JJ', 'samples': [{'id': 'NA12889', 'annotations': {}}]}, {'id': 'NA12890', 'family': 'FF', 'sex': 'FEMALE', 'phenotype': 'KK', 'samples': [{'id': 'NA12890', 'annotations': {}}]}, {'id': 'NA12891', 'family': 'FF', 'sex': 'MALE', 'phenotype': 'LL', 'samples': [{'id': 'NA12891', 'annotations': {}}]}, {'id': 'NA12892', 'family': 'FF', 'sex': 'FEMALE', 'phenotype': 'JJ', 'samples': [{'id': 'NA12892', 'annotations': {}}]}, {'id': 'NA12893', 'family': 'FF', 'father': 'NA12877', 'mother': 'NA12878', 'sex': 'MALE', 'phenotype': 'KK', 'samples': [{'id': 'NA12893', 'annotations': {}}]}]\n"
     ]
    }
   ],
   "source": [
    "variant_metadata = oskar.metadata.variantMetadata(df)\n",
    "print(variant_metadata[\"studies\"][0][\"individuals\"])"
   ]
  },
  {
   "cell_type": "markdown",
   "metadata": {},
   "source": [
    "## Chi-squared\n",
    "Usage:\n",
    "```python\n",
    "chiSquare(df[DataFrame], studyId[str], phenotype[str])\n",
    "```"
   ]
  },
  {
   "cell_type": "code",
   "execution_count": 28,
   "metadata": {},
   "outputs": [
    {
     "name": "stdout",
     "output_type": "stream",
     "text": [
      "+---------------+-------------------+\n",
      "|             id|  ChiSquare p-value|\n",
      "+---------------+-------------------+\n",
      "|22:16054454:C:T|0.11583677431831574|\n",
      "|22:16065809:T:C| 0.8162967146689325|\n",
      "|22:16077310:T:A| 0.3243241555798487|\n",
      "|22:16080499:A:G|0.16932729721206297|\n",
      "|22:16084621:T:C|0.11808572685033702|\n",
      "|22:16091610:G:T|0.24164568184122925|\n",
      "|22:16096040:G:A|0.24839711482150617|\n",
      "|22:16099957:C:T| 0.9283082406877704|\n",
      "|22:16100462:A:G| 0.8244791006886252|\n",
      "|22:16105660:G:A| 0.9612450306338958|\n",
      "+---------------+-------------------+\n",
      "only showing top 10 rows\n",
      "\n"
     ]
    }
   ],
   "source": [
    "oskar.chiSquare(df, \"hgvauser@platinum:illumina_platinum\", \"KK\").select(\"id\", col(\"ChiSquare p-value\")).show(10)"
   ]
  },
  {
   "cell_type": "markdown",
   "metadata": {},
   "source": [
    "## Fisher\n",
    "Usage:\n",
    "```python\n",
    "fisher(df[DataFrame], studyId[str], phenotype[str])\n",
    "```"
   ]
  },
  {
   "cell_type": "code",
   "execution_count": 30,
   "metadata": {},
   "outputs": [
    {
     "name": "stdout",
     "output_type": "stream",
     "text": [
      "+---------------+-------------------+\n",
      "|             id|     Fisher p-value|\n",
      "+---------------+-------------------+\n",
      "|22:16054454:C:T| 0.2941176470588194|\n",
      "|22:16065809:T:C| 0.9999999999999629|\n",
      "|22:16077310:T:A| 0.6444578943924588|\n",
      "|22:16080499:A:G|0.29575642573744654|\n",
      "|22:16084621:T:C| 0.2907969639468656|\n",
      "|22:16091610:G:T| 0.5387700534759321|\n",
      "|22:16096040:G:A|0.39512983254395534|\n",
      "|22:16099957:C:T| 0.9999999999999654|\n",
      "|22:16100462:A:G| 0.9999999999999866|\n",
      "|22:16105660:G:A| 0.9999999999999954|\n",
      "+---------------+-------------------+\n",
      "only showing top 10 rows\n",
      "\n"
     ]
    }
   ],
   "source": [
    "oskar.fisher(df, \"hgvauser@platinum:illumina_platinum\", \"KK\").select(\"id\", col(\"Fisher p-value\")).show(10)"
   ]
  },
  {
   "cell_type": "code",
   "execution_count": 4,
   "metadata": {},
   "outputs": [
    {
     "data": {
      "text/html": [
       "<script type=\"text/javascript\">window.PlotlyConfig = {MathJaxConfig: 'local'};</script><script type=\"text/javascript\">if (window.MathJax) {MathJax.Hub.Config({SVG: {font: \"STIX-Web\"}});}</script><script>requirejs.config({paths: { 'plotly': ['https://cdn.plot.ly/plotly-latest.min']},});if(!window._Plotly) {require(['plotly'],function(plotly) {window._Plotly=plotly;});}</script>"
      ],
      "text/vnd.plotly.v1+html": [
       "<script type=\"text/javascript\">window.PlotlyConfig = {MathJaxConfig: 'local'};</script><script type=\"text/javascript\">if (window.MathJax) {MathJax.Hub.Config({SVG: {font: \"STIX-Web\"}});}</script><script>requirejs.config({paths: { 'plotly': ['https://cdn.plot.ly/plotly-latest.min']},});if(!window._Plotly) {require(['plotly'],function(plotly) {window._Plotly=plotly;});}</script>"
      ]
     },
     "metadata": {},
     "output_type": "display_data"
    },
    {
     "data": {
      "application/vnd.plotly.v1+json": {
       "config": {
        "linkText": "Export to plot.ly",
        "plotlyServerURL": "https://plot.ly",
        "showLink": false
       },
       "data": [
        {
         "colorscale": "Viridis",
         "type": "heatmap",
         "uid": "319e4a27-cd89-412d-a6db-cd8131491d8f",
         "x": [
          "22:16912210:A:G",
          "22:16912775:C:A",
          "22:16913788:A:T",
          "22:16914822:C:G",
          "22:16916066:T:C",
          "22:16926176:T:A",
          "22:16927996:G:A",
          "22:16928421:A:G",
          "22:16932137:C:A",
          "22:16933241:T:C",
          "22:16938334:G:C",
          "22:16948327:G:A",
          "22:16948479:A:G",
          "22:16950192:A:T",
          "22:16950203:C:T",
          "22:16950203:C:T",
          "22:16952200:T:C",
          "22:16957623:G:A"
         ],
         "y": [
          "16912210*",
          "16912775*",
          "16913788*",
          "16914822*",
          "16916066*",
          "16926176*",
          "16927996*",
          "16928421*",
          "16932137*",
          "16933241*",
          "16938334*",
          "16948327*",
          "16948479*",
          "16950192*",
          "16950203*",
          "16950203*",
          "16952200*",
          "16957623*"
         ],
         "z": [
          [
           0,
           0.43643263757116024,
           0.4364326375711317,
           0.4157397107897617,
           0.4364326375711637,
           0.4364326375711649,
           0.05554597205451561,
           0.4364326375711649,
           0.43643263757116146,
           0.43643263757114537,
           0.43643263757115536,
           0.4364326375711649,
           0.4364326375711649,
           0.14054832166461195,
           0.4364326375711317,
           0.4364326375711317,
           0.26944971537001183,
           0.4364326375711317
          ],
          [
           0.41891910048056846,
           0,
           2.853273173286652e-14,
           0.8521723483609219,
           3.4416913763379853e-15,
           4.6629367034256575e-15,
           0.49197860962567586,
           4.6629367034256575e-15,
           1.2212453270876722e-15,
           1.4876988529977098e-14,
           4.884981308350689e-15,
           4.6629367034256575e-15,
           4.6629367034256575e-15,
           0.2958843159065483,
           2.853273173286652e-14,
           2.853273173286652e-14,
           0.7058823529411721,
           2.853273173286652e-14
          ],
          [
           0.480276234221405,
           0.06135713374083651,
           0,
           0.8521723483608934,
           3.197442310920451e-14,
           3.319566843629218e-14,
           0.4919786096256473,
           3.319566843629218e-14,
           2.9753977059954195e-14,
           1.3655743202889425e-14,
           2.3647750424515834e-14,
           3.319566843629218e-14,
           3.319566843629218e-14,
           0.29588431590651976,
           0,
           0,
           0.7058823529411435,
           0
          ],
          [
           0.25456978650843776,
           0.6734888869890062,
           0.7348460207298427,
           0,
           0.8521723483609254,
           0.8521723483609266,
           0.36019373873524607,
           0.8521723483609266,
           0.8521723483609231,
           0.852172348360907,
           0.852172348360917,
           0.8521723483609266,
           0.8521723483609266,
           0.5562880324543736,
           0.8521723483608934,
           0.8521723483608934,
           0.14628999541974988,
           0.8521723483608934
          ],
          [
           0.17631562069309537,
           0.2426034797874731,
           0.3039606135283096,
           0.4308854072015331,
           0,
           1.2212453270876722e-15,
           0.4919786096256793,
           1.2212453270876722e-15,
           2.220446049250313e-15,
           1.8318679906315083e-14,
           8.326672684688674e-15,
           1.2212453270876722e-15,
           1.2212453270876722e-15,
           0.29588431590655173,
           3.197442310920451e-14,
           3.197442310920451e-14,
           0.7058823529411755,
           3.197442310920451e-14
          ],
          [
           0.6639795195524725,
           0.245060419071904,
           0.1837032853310675,
           0.9185493060609102,
           0.4876638988593771,
           0,
           0.4919786096256805,
           0,
           3.4416913763379853e-15,
           1.9539925233402755e-14,
           9.547918011776346e-15,
           0,
           0,
           0.29588431590655295,
           3.319566843629218e-14,
           3.319566843629218e-14,
           0.7058823529411767,
           3.319566843629218e-14
          ],
          [
           0.1740833216553972,
           0.24483577882517127,
           0.3061929125660078,
           0.42865310816383495,
           0.002232299037698171,
           0.4898961978970753,
           0,
           0.4919786096256805,
           0.4919786096256771,
           0.491978609625661,
           0.49197860962567097,
           0.4919786096256805,
           0.4919786096256805,
           0.19609429371912757,
           0.4919786096256473,
           0.4919786096256473,
           0.21390374331549622,
           0.4919786096256473
          ],
          [
           0.6639795195524725,
           0.245060419071904,
           0.1837032853310675,
           0.9185493060609102,
           0.4876638988593771,
           0,
           0.4898961978970753,
           0,
           3.4416913763379853e-15,
           1.9539925233402755e-14,
           9.547918011776346e-15,
           0,
           0,
           0.29588431590655295,
           3.319566843629218e-14,
           3.319566843629218e-14,
           0.7058823529411767,
           3.319566843629218e-14
          ],
          [
           0.539919706812712,
           0.12100060633214349,
           0.05964347259130698,
           0.7944894933211497,
           0.3636040861196166,
           0.12405981273976052,
           0.36583638515731476,
           0.12405981273976052,
           0,
           1.609823385706477e-14,
           6.106226635438361e-15,
           3.4416913763379853e-15,
           3.4416913763379853e-15,
           0.2958843159065495,
           2.9753977059954195e-14,
           2.9753977059954195e-14,
           0.7058823529411733,
           2.9753977059954195e-14
          ],
          [
           0.010701897019867901,
           0.40821720346070056,
           0.4695743372015371,
           0.26527168352830566,
           0.16561372367322746,
           0.6532776225326046,
           0.1633814246355293,
           0.6532776225326046,
           0.529217809792844,
           0,
           9.992007221626409e-15,
           1.9539925233402755e-14,
           1.9539925233402755e-14,
           0.2958843159065334,
           1.3655743202889425e-14,
           1.3655743202889425e-14,
           0.7058823529411572,
           1.3655743202889425e-14
          ],
          [
           0.48845862024109765,
           0.06953951976052919,
           0.008182386019692678,
           0.7430284067495354,
           0.3121429995480023,
           0.17552089931137482,
           0.31437529858570046,
           0.17552089931137482,
           0.0514610865716143,
           0.47775672322122975,
           0,
           9.547918011776346e-15,
           9.547918011776346e-15,
           0.2958843159065434,
           2.3647750424515834e-14,
           2.3647750424515834e-14,
           0.7058823529411672,
           2.3647750424515834e-14
          ],
          [
           0.6639795195524725,
           0.245060419071904,
           0.1837032853310675,
           0.9185493060609102,
           0.4876638988593771,
           0,
           0.4898961978970753,
           0,
           0.12405981273976052,
           0.6532776225326046,
           0.17552089931137482,
           0,
           0,
           0.29588431590655295,
           3.319566843629218e-14,
           3.319566843629218e-14,
           0.7058823529411767,
           3.319566843629218e-14
          ],
          [
           0.6639795195524725,
           0.245060419071904,
           0.1837032853310675,
           0.9185493060609102,
           0.4876638988593771,
           0,
           0.4898961978970753,
           0,
           0.12405981273976052,
           0.6532776225326046,
           0.17552089931137482,
           0,
           0,
           0.29588431590655295,
           3.319566843629218e-14,
           3.319566843629218e-14,
           0.7058823529411767,
           3.319566843629218e-14
          ],
          [
           0.16378136987865277,
           0.2551377306019157,
           0.3164948643427522,
           0.41835115638709053,
           0.012534250814442593,
           0.5001981496738197,
           0.010301951776744422,
           0.5001981496738197,
           0.3761383369340592,
           0.15307947285878487,
           0.3246772503624449,
           0.5001981496738197,
           0.5001981496738197,
           0,
           0.29588431590651976,
           0.29588431590651976,
           0.4099980370346238,
           0.29588431590651976
          ],
          [
           0.480276234221405,
           0.06135713374083651,
           0,
           0.7348460207298427,
           0.3039606135283096,
           0.1837032853310675,
           0.3061929125660078,
           0.1837032853310675,
           0.05964347259130698,
           0.4695743372015371,
           0.008182386019692678,
           0.1837032853310675,
           0.1837032853310675,
           0.3164948643427522,
           0,
           0,
           0.7058823529411435,
           0
          ],
          [
           0.480276234221405,
           0.06135713374083651,
           0,
           0.7348460207298427,
           0.3039606135283096,
           0.1837032853310675,
           0.3061929125660078,
           0.1837032853310675,
           0.05964347259130698,
           0.4695743372015371,
           0.008182386019692678,
           0.1837032853310675,
           0.1837032853310675,
           0.3164948643427522,
           0,
           0,
           0.7058823529411435,
           0
          ],
          [
           0.2201837061292118,
           0.6391028066097802,
           0.7004599403506168,
           0.03438608037922597,
           0.39649932682230715,
           0.8841632256816843,
           0.394267027784609,
           0.8841632256816843,
           0.7601034129419237,
           0.2308856031490797,
           0.7086423263703094,
           0.8841632256816843,
           0.8841632256816843,
           0.38396507600786456,
           0.7004599403506168,
           0.7004599403506168,
           0,
           0.7058823529411435
          ],
          [
           0.480276234221405,
           0.06135713374083651,
           0,
           0.7348460207298427,
           0.3039606135283096,
           0.1837032853310675,
           0.3061929125660078,
           0.1837032853310675,
           0.05964347259130698,
           0.4695743372015371,
           0.008182386019692678,
           0.1837032853310675,
           0.1837032853310675,
           0.3164948643427522,
           0,
           0,
           0.7004599403506168,
           0
          ]
         ]
        }
       ],
       "layout": {
        "height": 500,
        "title": {
         "text": "chiSquare vs fisher"
        },
        "width": 1440,
        "xaxis": {
         "autorange": true,
         "range": [
          -0.5,
          17.5
         ],
         "type": "category"
        },
        "yaxis": {
         "autorange": true,
         "range": [
          -0.5,
          17.5
         ],
         "type": "category"
        }
       }
      },
      "image/png": "[encoded data removed]",
      "text/html": [
       "<div id=\"05e90561-06e7-4106-b44a-4b1dfd3c3e02\" style=\"height: 500px; width: 1440px;\" class=\"plotly-graph-div\"></div><script type=\"text/javascript\">require([\"plotly\"], function(Plotly) { window.PLOTLYENV=window.PLOTLYENV || {};window.PLOTLYENV.BASE_URL=\"https://plot.ly\";Plotly.newPlot(\"05e90561-06e7-4106-b44a-4b1dfd3c3e02\", [{\"colorscale\": \"Viridis\", \"x\": [\"22:16912210:A:G\", \"22:16912775:C:A\", \"22:16913788:A:T\", \"22:16914822:C:G\", \"22:16916066:T:C\", \"22:16926176:T:A\", \"22:16927996:G:A\", \"22:16928421:A:G\", \"22:16932137:C:A\", \"22:16933241:T:C\", \"22:16938334:G:C\", \"22:16948327:G:A\", \"22:16948479:A:G\", \"22:16950192:A:T\", \"22:16950203:C:T\", \"22:16950203:C:T\", \"22:16952200:T:C\", \"22:16957623:G:A\"], \"y\": [\"16912210*\", \"16912775*\", \"16913788*\", \"16914822*\", \"16916066*\", \"16926176*\", \"16927996*\", \"16928421*\", \"16932137*\", \"16933241*\", \"16938334*\", \"16948327*\", \"16948479*\", \"16950192*\", \"16950203*\", \"16950203*\", \"16952200*\", \"16957623*\"], \"z\": [[0.0, 0.43643263757116024, 0.4364326375711317, 0.4157397107897617, 0.4364326375711637, 0.4364326375711649, 0.05554597205451561, 0.4364326375711649, 0.43643263757116146, 0.43643263757114537, 0.43643263757115536, 0.4364326375711649, 0.4364326375711649, 0.14054832166461195, 0.4364326375711317, 0.4364326375711317, 0.26944971537001183, 0.4364326375711317], [0.41891910048056846, 0.0, 2.853273173286652e-14, 0.8521723483609219, 3.4416913763379853e-15, 4.6629367034256575e-15, 0.49197860962567586, 4.6629367034256575e-15, 1.2212453270876722e-15, 1.4876988529977098e-14, 4.884981308350689e-15, 4.6629367034256575e-15, 4.6629367034256575e-15, 0.2958843159065483, 2.853273173286652e-14, 2.853273173286652e-14, 0.7058823529411721, 2.853273173286652e-14], [0.480276234221405, 0.06135713374083651, 0.0, 0.8521723483608934, 3.197442310920451e-14, 3.319566843629218e-14, 0.4919786096256473, 3.319566843629218e-14, 2.9753977059954195e-14, 1.3655743202889425e-14, 2.3647750424515834e-14, 3.319566843629218e-14, 3.319566843629218e-14, 0.29588431590651976, 0.0, 0.0, 0.7058823529411435, 0.0], [0.25456978650843776, 0.6734888869890062, 0.7348460207298427, 0.0, 0.8521723483609254, 0.8521723483609266, 0.36019373873524607, 0.8521723483609266, 0.8521723483609231, 0.852172348360907, 0.852172348360917, 0.8521723483609266, 0.8521723483609266, 0.5562880324543736, 0.8521723483608934, 0.8521723483608934, 0.14628999541974988, 0.8521723483608934], [0.17631562069309537, 0.2426034797874731, 0.3039606135283096, 0.4308854072015331, 0.0, 1.2212453270876722e-15, 0.4919786096256793, 1.2212453270876722e-15, 2.220446049250313e-15, 1.8318679906315083e-14, 8.326672684688674e-15, 1.2212453270876722e-15, 1.2212453270876722e-15, 0.29588431590655173, 3.197442310920451e-14, 3.197442310920451e-14, 0.7058823529411755, 3.197442310920451e-14], [0.6639795195524725, 0.245060419071904, 0.1837032853310675, 0.9185493060609102, 0.4876638988593771, 0.0, 0.4919786096256805, 0.0, 3.4416913763379853e-15, 1.9539925233402755e-14, 9.547918011776346e-15, 0.0, 0.0, 0.29588431590655295, 3.319566843629218e-14, 3.319566843629218e-14, 0.7058823529411767, 3.319566843629218e-14], [0.1740833216553972, 0.24483577882517127, 0.3061929125660078, 0.42865310816383495, 0.002232299037698171, 0.4898961978970753, 0.0, 0.4919786096256805, 0.4919786096256771, 0.491978609625661, 0.49197860962567097, 0.4919786096256805, 0.4919786096256805, 0.19609429371912757, 0.4919786096256473, 0.4919786096256473, 0.21390374331549622, 0.4919786096256473], [0.6639795195524725, 0.245060419071904, 0.1837032853310675, 0.9185493060609102, 0.4876638988593771, 0.0, 0.4898961978970753, 0.0, 3.4416913763379853e-15, 1.9539925233402755e-14, 9.547918011776346e-15, 0.0, 0.0, 0.29588431590655295, 3.319566843629218e-14, 3.319566843629218e-14, 0.7058823529411767, 3.319566843629218e-14], [0.539919706812712, 0.12100060633214349, 0.05964347259130698, 0.7944894933211497, 0.3636040861196166, 0.12405981273976052, 0.36583638515731476, 0.12405981273976052, 0.0, 1.609823385706477e-14, 6.106226635438361e-15, 3.4416913763379853e-15, 3.4416913763379853e-15, 0.2958843159065495, 2.9753977059954195e-14, 2.9753977059954195e-14, 0.7058823529411733, 2.9753977059954195e-14], [0.010701897019867901, 0.40821720346070056, 0.4695743372015371, 0.26527168352830566, 0.16561372367322746, 0.6532776225326046, 0.1633814246355293, 0.6532776225326046, 0.529217809792844, 0.0, 9.992007221626409e-15, 1.9539925233402755e-14, 1.9539925233402755e-14, 0.2958843159065334, 1.3655743202889425e-14, 1.3655743202889425e-14, 0.7058823529411572, 1.3655743202889425e-14], [0.48845862024109765, 0.06953951976052919, 0.008182386019692678, 0.7430284067495354, 0.3121429995480023, 0.17552089931137482, 0.31437529858570046, 0.17552089931137482, 0.0514610865716143, 0.47775672322122975, 0.0, 9.547918011776346e-15, 9.547918011776346e-15, 0.2958843159065434, 2.3647750424515834e-14, 2.3647750424515834e-14, 0.7058823529411672, 2.3647750424515834e-14], [0.6639795195524725, 0.245060419071904, 0.1837032853310675, 0.9185493060609102, 0.4876638988593771, 0.0, 0.4898961978970753, 0.0, 0.12405981273976052, 0.6532776225326046, 0.17552089931137482, 0.0, 0.0, 0.29588431590655295, 3.319566843629218e-14, 3.319566843629218e-14, 0.7058823529411767, 3.319566843629218e-14], [0.6639795195524725, 0.245060419071904, 0.1837032853310675, 0.9185493060609102, 0.4876638988593771, 0.0, 0.4898961978970753, 0.0, 0.12405981273976052, 0.6532776225326046, 0.17552089931137482, 0.0, 0.0, 0.29588431590655295, 3.319566843629218e-14, 3.319566843629218e-14, 0.7058823529411767, 3.319566843629218e-14], [0.16378136987865277, 0.2551377306019157, 0.3164948643427522, 0.41835115638709053, 0.012534250814442593, 0.5001981496738197, 0.010301951776744422, 0.5001981496738197, 0.3761383369340592, 0.15307947285878487, 0.3246772503624449, 0.5001981496738197, 0.5001981496738197, 0.0, 0.29588431590651976, 0.29588431590651976, 0.4099980370346238, 0.29588431590651976], [0.480276234221405, 0.06135713374083651, 0.0, 0.7348460207298427, 0.3039606135283096, 0.1837032853310675, 0.3061929125660078, 0.1837032853310675, 0.05964347259130698, 0.4695743372015371, 0.008182386019692678, 0.1837032853310675, 0.1837032853310675, 0.3164948643427522, 0.0, 0.0, 0.7058823529411435, 0.0], [0.480276234221405, 0.06135713374083651, 0.0, 0.7348460207298427, 0.3039606135283096, 0.1837032853310675, 0.3061929125660078, 0.1837032853310675, 0.05964347259130698, 0.4695743372015371, 0.008182386019692678, 0.1837032853310675, 0.1837032853310675, 0.3164948643427522, 0.0, 0.0, 0.7058823529411435, 0.0], [0.2201837061292118, 0.6391028066097802, 0.7004599403506168, 0.03438608037922597, 0.39649932682230715, 0.8841632256816843, 0.394267027784609, 0.8841632256816843, 0.7601034129419237, 0.2308856031490797, 0.7086423263703094, 0.8841632256816843, 0.8841632256816843, 0.38396507600786456, 0.7004599403506168, 0.7004599403506168, 0.0, 0.7058823529411435], [0.480276234221405, 0.06135713374083651, 0.0, 0.7348460207298427, 0.3039606135283096, 0.1837032853310675, 0.3061929125660078, 0.1837032853310675, 0.05964347259130698, 0.4695743372015371, 0.008182386019692678, 0.1837032853310675, 0.1837032853310675, 0.3164948643427522, 0.0, 0.0, 0.7004599403506168, 0.0]], \"type\": \"heatmap\", \"uid\": \"319e4a27-cd89-412d-a6db-cd8131491d8f\"}], {\"title\": {\"text\": \"chiSquare vs fisher\"}, \"width\": 1440, \"height\": 500}, {\"showLink\": false, \"linkText\": \"Export to plot.ly\", \"plotlyServerURL\": \"https://plot.ly\"})});</script>"
      ],
      "text/vnd.plotly.v1+html": [
       "<div id=\"05e90561-06e7-4106-b44a-4b1dfd3c3e02\" style=\"height: 500px; width: 1440px;\" class=\"plotly-graph-div\"></div><script type=\"text/javascript\">require([\"plotly\"], function(Plotly) { window.PLOTLYENV=window.PLOTLYENV || {};window.PLOTLYENV.BASE_URL=\"https://plot.ly\";Plotly.newPlot(\"05e90561-06e7-4106-b44a-4b1dfd3c3e02\", [{\"colorscale\": \"Viridis\", \"x\": [\"22:16912210:A:G\", \"22:16912775:C:A\", \"22:16913788:A:T\", \"22:16914822:C:G\", \"22:16916066:T:C\", \"22:16926176:T:A\", \"22:16927996:G:A\", \"22:16928421:A:G\", \"22:16932137:C:A\", \"22:16933241:T:C\", \"22:16938334:G:C\", \"22:16948327:G:A\", \"22:16948479:A:G\", \"22:16950192:A:T\", \"22:16950203:C:T\", \"22:16950203:C:T\", \"22:16952200:T:C\", \"22:16957623:G:A\"], \"y\": [\"16912210*\", \"16912775*\", \"16913788*\", \"16914822*\", \"16916066*\", \"16926176*\", \"16927996*\", \"16928421*\", \"16932137*\", \"16933241*\", \"16938334*\", \"16948327*\", \"16948479*\", \"16950192*\", \"16950203*\", \"16950203*\", \"16952200*\", \"16957623*\"], \"z\": [[0.0, 0.43643263757116024, 0.4364326375711317, 0.4157397107897617, 0.4364326375711637, 0.4364326375711649, 0.05554597205451561, 0.4364326375711649, 0.43643263757116146, 0.43643263757114537, 0.43643263757115536, 0.4364326375711649, 0.4364326375711649, 0.14054832166461195, 0.4364326375711317, 0.4364326375711317, 0.26944971537001183, 0.4364326375711317], [0.41891910048056846, 0.0, 2.853273173286652e-14, 0.8521723483609219, 3.4416913763379853e-15, 4.6629367034256575e-15, 0.49197860962567586, 4.6629367034256575e-15, 1.2212453270876722e-15, 1.4876988529977098e-14, 4.884981308350689e-15, 4.6629367034256575e-15, 4.6629367034256575e-15, 0.2958843159065483, 2.853273173286652e-14, 2.853273173286652e-14, 0.7058823529411721, 2.853273173286652e-14], [0.480276234221405, 0.06135713374083651, 0.0, 0.8521723483608934, 3.197442310920451e-14, 3.319566843629218e-14, 0.4919786096256473, 3.319566843629218e-14, 2.9753977059954195e-14, 1.3655743202889425e-14, 2.3647750424515834e-14, 3.319566843629218e-14, 3.319566843629218e-14, 0.29588431590651976, 0.0, 0.0, 0.7058823529411435, 0.0], [0.25456978650843776, 0.6734888869890062, 0.7348460207298427, 0.0, 0.8521723483609254, 0.8521723483609266, 0.36019373873524607, 0.8521723483609266, 0.8521723483609231, 0.852172348360907, 0.852172348360917, 0.8521723483609266, 0.8521723483609266, 0.5562880324543736, 0.8521723483608934, 0.8521723483608934, 0.14628999541974988, 0.8521723483608934], [0.17631562069309537, 0.2426034797874731, 0.3039606135283096, 0.4308854072015331, 0.0, 1.2212453270876722e-15, 0.4919786096256793, 1.2212453270876722e-15, 2.220446049250313e-15, 1.8318679906315083e-14, 8.326672684688674e-15, 1.2212453270876722e-15, 1.2212453270876722e-15, 0.29588431590655173, 3.197442310920451e-14, 3.197442310920451e-14, 0.7058823529411755, 3.197442310920451e-14], [0.6639795195524725, 0.245060419071904, 0.1837032853310675, 0.9185493060609102, 0.4876638988593771, 0.0, 0.4919786096256805, 0.0, 3.4416913763379853e-15, 1.9539925233402755e-14, 9.547918011776346e-15, 0.0, 0.0, 0.29588431590655295, 3.319566843629218e-14, 3.319566843629218e-14, 0.7058823529411767, 3.319566843629218e-14], [0.1740833216553972, 0.24483577882517127, 0.3061929125660078, 0.42865310816383495, 0.002232299037698171, 0.4898961978970753, 0.0, 0.4919786096256805, 0.4919786096256771, 0.491978609625661, 0.49197860962567097, 0.4919786096256805, 0.4919786096256805, 0.19609429371912757, 0.4919786096256473, 0.4919786096256473, 0.21390374331549622, 0.4919786096256473], [0.6639795195524725, 0.245060419071904, 0.1837032853310675, 0.9185493060609102, 0.4876638988593771, 0.0, 0.4898961978970753, 0.0, 3.4416913763379853e-15, 1.9539925233402755e-14, 9.547918011776346e-15, 0.0, 0.0, 0.29588431590655295, 3.319566843629218e-14, 3.319566843629218e-14, 0.7058823529411767, 3.319566843629218e-14], [0.539919706812712, 0.12100060633214349, 0.05964347259130698, 0.7944894933211497, 0.3636040861196166, 0.12405981273976052, 0.36583638515731476, 0.12405981273976052, 0.0, 1.609823385706477e-14, 6.106226635438361e-15, 3.4416913763379853e-15, 3.4416913763379853e-15, 0.2958843159065495, 2.9753977059954195e-14, 2.9753977059954195e-14, 0.7058823529411733, 2.9753977059954195e-14], [0.010701897019867901, 0.40821720346070056, 0.4695743372015371, 0.26527168352830566, 0.16561372367322746, 0.6532776225326046, 0.1633814246355293, 0.6532776225326046, 0.529217809792844, 0.0, 9.992007221626409e-15, 1.9539925233402755e-14, 1.9539925233402755e-14, 0.2958843159065334, 1.3655743202889425e-14, 1.3655743202889425e-14, 0.7058823529411572, 1.3655743202889425e-14], [0.48845862024109765, 0.06953951976052919, 0.008182386019692678, 0.7430284067495354, 0.3121429995480023, 0.17552089931137482, 0.31437529858570046, 0.17552089931137482, 0.0514610865716143, 0.47775672322122975, 0.0, 9.547918011776346e-15, 9.547918011776346e-15, 0.2958843159065434, 2.3647750424515834e-14, 2.3647750424515834e-14, 0.7058823529411672, 2.3647750424515834e-14], [0.6639795195524725, 0.245060419071904, 0.1837032853310675, 0.9185493060609102, 0.4876638988593771, 0.0, 0.4898961978970753, 0.0, 0.12405981273976052, 0.6532776225326046, 0.17552089931137482, 0.0, 0.0, 0.29588431590655295, 3.319566843629218e-14, 3.319566843629218e-14, 0.7058823529411767, 3.319566843629218e-14], [0.6639795195524725, 0.245060419071904, 0.1837032853310675, 0.9185493060609102, 0.4876638988593771, 0.0, 0.4898961978970753, 0.0, 0.12405981273976052, 0.6532776225326046, 0.17552089931137482, 0.0, 0.0, 0.29588431590655295, 3.319566843629218e-14, 3.319566843629218e-14, 0.7058823529411767, 3.319566843629218e-14], [0.16378136987865277, 0.2551377306019157, 0.3164948643427522, 0.41835115638709053, 0.012534250814442593, 0.5001981496738197, 0.010301951776744422, 0.5001981496738197, 0.3761383369340592, 0.15307947285878487, 0.3246772503624449, 0.5001981496738197, 0.5001981496738197, 0.0, 0.29588431590651976, 0.29588431590651976, 0.4099980370346238, 0.29588431590651976], [0.480276234221405, 0.06135713374083651, 0.0, 0.7348460207298427, 0.3039606135283096, 0.1837032853310675, 0.3061929125660078, 0.1837032853310675, 0.05964347259130698, 0.4695743372015371, 0.008182386019692678, 0.1837032853310675, 0.1837032853310675, 0.3164948643427522, 0.0, 0.0, 0.7058823529411435, 0.0], [0.480276234221405, 0.06135713374083651, 0.0, 0.7348460207298427, 0.3039606135283096, 0.1837032853310675, 0.3061929125660078, 0.1837032853310675, 0.05964347259130698, 0.4695743372015371, 0.008182386019692678, 0.1837032853310675, 0.1837032853310675, 0.3164948643427522, 0.0, 0.0, 0.7058823529411435, 0.0], [0.2201837061292118, 0.6391028066097802, 0.7004599403506168, 0.03438608037922597, 0.39649932682230715, 0.8841632256816843, 0.394267027784609, 0.8841632256816843, 0.7601034129419237, 0.2308856031490797, 0.7086423263703094, 0.8841632256816843, 0.8841632256816843, 0.38396507600786456, 0.7004599403506168, 0.7004599403506168, 0.0, 0.7058823529411435], [0.480276234221405, 0.06135713374083651, 0.0, 0.7348460207298427, 0.3039606135283096, 0.1837032853310675, 0.3061929125660078, 0.1837032853310675, 0.05964347259130698, 0.4695743372015371, 0.008182386019692678, 0.1837032853310675, 0.1837032853310675, 0.3164948643427522, 0.0, 0.0, 0.7004599403506168, 0.0]], \"type\": \"heatmap\", \"uid\": \"319e4a27-cd89-412d-a6db-cd8131491d8f\"}], {\"title\": {\"text\": \"chiSquare vs fisher\"}, \"width\": 1440, \"height\": 500}, {\"showLink\": false, \"linkText\": \"Export to plot.ly\", \"plotlyServerURL\": \"https://plot.ly\"})});</script>"
      ]
     },
     "metadata": {},
     "output_type": "display_data"
    }
   ],
   "source": [
    "import numpy as np\n",
    "import plotly.graph_objs as go\n",
    "import plotly.offline as py\n",
    "from plotly.offline import init_notebook_mode\n",
    "\n",
    "init_notebook_mode(connected = True)\n",
    "\n",
    "SLCdf = df.filter(array_contains(genes(\"annotation\"), \"SLC9B1P4\"))\n",
    "\n",
    "pandasFisher = oskar.fisher(SLCdf, \"hgvauser@platinum:illumina_platinum\", \"KK\").select(\"id\", col(\"Fisher p-value\").alias(\"fisher\")).toPandas()\n",
    "pandasChiSquare = oskar.chiSquare(SLCdf, \"hgvauser@platinum:illumina_platinum\", \"KK\").select(\"id\", col(\"ChiSquare p-value\").alias(\"chiSquare\")).toPandas()\n",
    "\n",
    "labels = pandasFisher[\"id\"].tolist()\n",
    "labelsPosition = [i.split(\":\", 3)[1] + \"*\" for i in labels]\n",
    "\n",
    "# dim = len(labels)\n",
    "# X = np.zeros((dim, dim))\n",
    "# for i in range(dim):\n",
    "#     for j in range(dim):\n",
    "#         X[j, i] = np.absolute(pandasChiSquare[\"chiSquare\"][i] - pandasChiSquare[\"chiSquare\"][j])\n",
    "\n",
    "dim = len(labels)\n",
    "X = np.zeros((dim, dim))\n",
    "for i in range(dim):\n",
    "    for j in range(i, dim):\n",
    "        X[i, j] = np.absolute(pandasFisher[\"fisher\"][i] - pandasFisher[\"fisher\"][j])\n",
    "for i in range(dim):\n",
    "    for j in range(i, dim):\n",
    "        X[j, i] = np.absolute(pandasChiSquare[\"chiSquare\"][i] - pandasChiSquare[\"chiSquare\"][j])\n",
    "\n",
    "trace = go.Heatmap(x = labels, y = labelsPosition, z = X, colorscale = 'Viridis')\n",
    "fig = go.Figure(data = [trace])\n",
    "fig['layout'].update({ 'title':'chiSquare vs fisher', 'width':1440, 'height':500})\n",
    "\n",
    "py.iplot(fig)"
   ]
  }
 ],
 "metadata": {
  "kernelspec": {
   "display_name": "Python 3",
   "language": "python",
   "name": "python3"
  },
  "language_info": {
   "codemirror_mode": {
    "name": "ipython",
    "version": 3
   },
   "file_extension": ".py",
   "mimetype": "text/x-python",
   "name": "python",
   "nbconvert_exporter": "python",
   "pygments_lexer": "ipython3",
   "version": "3.6.7"
  }
 },
 "nbformat": 4,
 "nbformat_minor": 2
}
